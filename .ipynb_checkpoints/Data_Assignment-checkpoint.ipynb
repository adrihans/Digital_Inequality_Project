{
 "cells": [
  {
   "cell_type": "markdown",
   "id": "c877f623",
   "metadata": {},
   "source": [
    "# Data Assignment "
   ]
  },
  {
   "cell_type": "markdown",
   "id": "c92ca44e",
   "metadata": {},
   "source": [
    "How is participating during the elections on Twitter?? \n",
    "\n",
    "- Compared to Arcom/CSA dataset [here](https://www.csa.fr/Proteger/Garantie-des-droits-et-libertes/Proteger-le-pluralisme-politique/La-presidentielle-2022)\n",
    "- Compared to Factiva dataset: only the distribution???\n",
    "\n",
    "\n",
    "**Before, we were assigning the week number instead of the date. Instead, we keep the date and compare the same date ranges for the tweets as in Factiva and Arcom datasets**"
   ]
  },
  {
   "cell_type": "code",
   "execution_count": 42,
   "id": "cd60a7ab",
   "metadata": {},
   "outputs": [],
   "source": [
    "import pandas as pd\n",
    "import numpy as np\n",
    "import matplotlib.pyplot as plt\n",
    "\n",
    "import datetime\n",
    "\n",
    "import seaborn as sns\n",
    "\n",
    "from os import listdir\n",
    "from os.path import isfile, join\n",
    "\n",
    "\n",
    "#Parsing:\n",
    "import dateparser # $ pip install dateparser"
   ]
  },
  {
   "cell_type": "markdown",
   "id": "5d8451d2",
   "metadata": {},
   "source": [
    "## Twitter"
   ]
  },
  {
   "cell_type": "markdown",
   "id": "e307cf64",
   "metadata": {},
   "source": [
    "### Accounts of the French Presidential candidates"
   ]
  },
  {
   "cell_type": "markdown",
   "id": "1f104a6e",
   "metadata": {},
   "source": [
    "Do we use Macron??\n",
    "\n",
    "No political party for Lassale. "
   ]
  },
  {
   "cell_type": "code",
   "execution_count": 43,
   "id": "3267a016",
   "metadata": {},
   "outputs": [],
   "source": [
    "twitter_candidates={'zemmour': ['@ZemmourEric', '@Reconquete2022'], \n",
    "                    'le_pen':['@MLP_officiel', '@RNational_off'], \n",
    "                   'roussel': ['@Fabien_Roussel', '@PCF'], \n",
    "                   'melenchon' : ['@JLMelenchon', '@FranceInsoumise'], \n",
    "                   'jadot':['@yjadot', '@EELV'], \n",
    "                   'hidalgo':['@Anne_Hidalgo', '@partisocialiste'], \n",
    "                   'pecresse':['@vpecresse', '@lesRepublicains'], \n",
    "                   'poutou':['@PhilippePoutou', '@NPA_officiel'], \n",
    "                   'arthaud':['@n_arthaud', '@LutteOuvriere'],\n",
    "                   'lassale':['@jeanlassalle'], \n",
    "                   'dupont_aignan':['@dupontaignan', '@DLF_Officiel']}"
   ]
  },
  {
   "cell_type": "markdown",
   "id": "affb76a0",
   "metadata": {},
   "source": [
    "We can then retrieve the tweets mentionning them, using several conditions:\n",
    "- Date until:2022-03-14 since:2022-01-01\n",
    "- number of retweets: >100"
   ]
  },
  {
   "cell_type": "markdown",
   "id": "41361433",
   "metadata": {
    "heading_collapsed": true
   },
   "source": [
    "### Retrieving tweets using Minet - Medialab tool"
   ]
  },
  {
   "cell_type": "markdown",
   "id": "97fa4bdb",
   "metadata": {
    "hidden": true
   },
   "source": [
    "[Minet & Twitter documentation](https://github.com/medialab/minet/blob/master/docs/twitter.md)\n",
    "\n",
    "[Twitter advanced search doc](https://twitter.com/search-advanced?f=live)"
   ]
  },
  {
   "cell_type": "code",
   "execution_count": 15,
   "id": "e6852598",
   "metadata": {
    "hidden": true
   },
   "outputs": [],
   "source": [
    "import minet\n",
    "from minet.twitter import TwitterAPIScraper\n",
    "scraper = TwitterAPIScraper()"
   ]
  },
  {
   "cell_type": "code",
   "execution_count": 16,
   "id": "e3571425",
   "metadata": {
    "hidden": true
   },
   "outputs": [],
   "source": [
    "def retrieve_tweets_cont_username(username):\n",
    "    \"\"\"\n",
    "    @Inputs: username, str\n",
    "    \n",
    "    @Outputs: list of tweets\n",
    "    \"\"\"\n",
    "\n",
    "    #Initialising a temp list:\n",
    "    l_temp = []\n",
    "    #Retriving the tweets containing the username:\n",
    "    \n",
    "    query = str('('+username+') min_retweets:100 until:2022-03-14 since:2022-01-01')\n",
    "    #(#zemmour2022) min_retweets:100 until:2022-03-15 since:2022-01-01'):\n",
    "    \n",
    "    for tweet in scraper.search_tweets(query):\n",
    "        l_temp.append(tweet)\n",
    "    return l_temp\n",
    "\n",
    "\n",
    "def create_df_from_tweets(l_temp, candidate):\n",
    "    \"\"\"\n",
    "    @Inputs: \n",
    "        - l_temp, list of tweets (raw)\n",
    "    \n",
    "    @Outputs: \n",
    "        - df, clean, with tweets and candidate\n",
    "    \"\"\"\n",
    "    \n",
    "    \n",
    "    #We are using the keys not containing any list:\n",
    "    list_keys=['id', 'local_time', 'timestamp_utc', 'text', 'url', 'quoted_id', 'quoted_user', 'quoted_user_id', \n",
    "               'quoted_timestamp_utc', 'retweeted_id', 'retweeted_user', 'retweeted_user_id', 'retweeted_timestamp_utc', \n",
    "               'links_to_resolve', 'collection_time', 'match_query', 'coordinates', \n",
    "               'to_tweetid', 'to_username', 'to_userid', 'lang', 'possibly_sensitive', 'retweet_count', 'like_count', \n",
    "               'reply_count', 'user_id', 'user_screen_name', 'user_name', 'user_friends', 'user_followers', \n",
    "               'user_location', 'user_verified', 'user_description', 'user_created_at', 'user_tweets', 'user_likes', \n",
    "               'user_lists', 'user_image', 'user_url', 'user_timestamp_utc', 'source_url', 'source_name']\n",
    "    \n",
    "    #Init an empty dataframe:\n",
    "    df_ = pd.DataFrame()\n",
    "    #Loop over the raw tweets in l_temp\n",
    "    for el in l_temp:\n",
    "        #Creating an empty dict\n",
    "        dict_temp={}\n",
    "        #Looping over the selected keys\n",
    "        for k in list_keys:\n",
    "            #If the key exist, we retrieve the element \n",
    "            try:\n",
    "                dict_temp[k]=el[k]\n",
    "            #Else\n",
    "            except:\n",
    "                #do nothing\n",
    "                pass\n",
    "        #Creating an empty dataframe of only one row (the tweet we are looping over from el in df_temp)\n",
    "        df_temp=pd.DataFrame(data=[dict_temp])\n",
    "        #Concat the previously treated tweets and the new one\n",
    "        df_=pd.concat([df_, df_temp])\n",
    "        \n",
    "    #Indicating the candidate's name:\n",
    "    df_['candidate']=candidate\n",
    "    \n",
    "    #We can return the DataFrame:\n",
    "    return df_"
   ]
  },
  {
   "cell_type": "markdown",
   "id": "6a2e01e1",
   "metadata": {
    "heading_collapsed": true
   },
   "source": [
    "### Applying the functions"
   ]
  },
  {
   "cell_type": "code",
   "execution_count": 50,
   "id": "ef79ab62",
   "metadata": {
    "hidden": true
   },
   "outputs": [],
   "source": [
    "def main_tweets():\n",
    "    df_tweets = pd.DataFrame()\n",
    "    for candidate in twitter_candidates.keys():\n",
    "        print('-----------------------')\n",
    "        print(candidate)\n",
    "        for username in twitter_candidates[candidate]:\n",
    "            print(username)\n",
    "            l_temp = retrieve_tweets_cont_username(username)\n",
    "            print(len(l_temp))\n",
    "            df_ = create_df_from_tweets(l_temp, candidate)\n",
    "            df_tweets = pd.concat([df_tweets, df_])\n",
    "    return df_tweets"
   ]
  },
  {
   "cell_type": "code",
   "execution_count": 52,
   "id": "be0bbf67",
   "metadata": {
    "hidden": true
   },
   "outputs": [
    {
     "name": "stdout",
     "output_type": "stream",
     "text": [
      "-----------------------\n",
      "zemmour\n",
      "@ZemmourEric\n",
      "3838\n",
      "@Reconquete2022\n",
      "260\n",
      "-----------------------\n",
      "le_pen\n",
      "@MLP_officiel\n",
      "1229\n",
      "@RNational_off\n",
      "163\n",
      "-----------------------\n",
      "roussel\n",
      "@Fabien_Roussel\n",
      "314\n",
      "@PCF\n",
      "31\n",
      "-----------------------\n",
      "melenchon\n",
      "@JLMelenchon\n",
      "2546\n",
      "@FranceInsoumise\n",
      "115\n",
      "-----------------------\n",
      "jadot\n",
      "@yjadot\n",
      "315\n",
      "@EELV\n",
      "27\n",
      "-----------------------\n",
      "hidalgo\n",
      "@Anne_Hidalgo\n",
      "297\n",
      "@partisocialiste\n",
      "27\n",
      "-----------------------\n",
      "pecresse\n",
      "@vpecresse\n",
      "1074\n",
      "@lesRepublicains\n",
      "230\n",
      "-----------------------\n",
      "poutou\n",
      "@PhilippePoutou\n",
      "127\n",
      "@NPA_officiel\n",
      "7\n",
      "-----------------------\n",
      "arthaud\n",
      "@n_arthaud\n",
      "24\n",
      "@LutteOuvriere\n",
      "1\n",
      "-----------------------\n",
      "lassale\n",
      "@jeanlassalle\n",
      "21\n",
      "-----------------------\n",
      "dupont_aignan\n",
      "@dupontaignan\n",
      "224\n",
      "@DLF_Officiel\n",
      "1\n",
      "Wall time: 8min 9s\n"
     ]
    },
    {
     "data": {
      "text/html": [
       "<div>\n",
       "<style scoped>\n",
       "    .dataframe tbody tr th:only-of-type {\n",
       "        vertical-align: middle;\n",
       "    }\n",
       "\n",
       "    .dataframe tbody tr th {\n",
       "        vertical-align: top;\n",
       "    }\n",
       "\n",
       "    .dataframe thead th {\n",
       "        text-align: right;\n",
       "    }\n",
       "</style>\n",
       "<table border=\"1\" class=\"dataframe\">\n",
       "  <thead>\n",
       "    <tr style=\"text-align: right;\">\n",
       "      <th></th>\n",
       "      <th>id</th>\n",
       "      <th>local_time</th>\n",
       "      <th>timestamp_utc</th>\n",
       "      <th>text</th>\n",
       "      <th>url</th>\n",
       "      <th>quoted_id</th>\n",
       "      <th>quoted_user</th>\n",
       "      <th>quoted_user_id</th>\n",
       "      <th>quoted_timestamp_utc</th>\n",
       "      <th>retweeted_id</th>\n",
       "      <th>...</th>\n",
       "      <th>user_tweets</th>\n",
       "      <th>user_likes</th>\n",
       "      <th>user_lists</th>\n",
       "      <th>user_image</th>\n",
       "      <th>user_url</th>\n",
       "      <th>user_timestamp_utc</th>\n",
       "      <th>source_url</th>\n",
       "      <th>source_name</th>\n",
       "      <th>possibly_sensitive</th>\n",
       "      <th>candidate</th>\n",
       "    </tr>\n",
       "  </thead>\n",
       "  <tbody>\n",
       "    <tr>\n",
       "      <th>0</th>\n",
       "      <td>1503136657918377990</td>\n",
       "      <td>2022-03-13T22:31:20</td>\n",
       "      <td>1647210680</td>\n",
       "      <td>En ces #48HdelaReconquete j'ai décroché mon té...</td>\n",
       "      <td>https://twitter.com/AnthoMICHEL54/statuses/150...</td>\n",
       "      <td>None</td>\n",
       "      <td>None</td>\n",
       "      <td>None</td>\n",
       "      <td>None</td>\n",
       "      <td>None</td>\n",
       "      <td>...</td>\n",
       "      <td>3223</td>\n",
       "      <td>13286</td>\n",
       "      <td>0</td>\n",
       "      <td>https://pbs.twimg.com/profile_images/146737661...</td>\n",
       "      <td>None</td>\n",
       "      <td>1503569278</td>\n",
       "      <td>https://mobile.twitter.com</td>\n",
       "      <td>Twitter Web App</td>\n",
       "      <td>NaN</td>\n",
       "      <td>zemmour</td>\n",
       "    </tr>\n",
       "    <tr>\n",
       "      <th>0</th>\n",
       "      <td>1503134684427042816</td>\n",
       "      <td>2022-03-13T22:23:30</td>\n",
       "      <td>1647210210</td>\n",
       "      <td>@ZemmourEric à réussi à rassembler 3 génératio...</td>\n",
       "      <td>https://twitter.com/sco_pan/statuses/150313468...</td>\n",
       "      <td>None</td>\n",
       "      <td>None</td>\n",
       "      <td>None</td>\n",
       "      <td>None</td>\n",
       "      <td>None</td>\n",
       "      <td>...</td>\n",
       "      <td>11803</td>\n",
       "      <td>13546</td>\n",
       "      <td>9</td>\n",
       "      <td>https://pbs.twimg.com/profile_images/150335820...</td>\n",
       "      <td>None</td>\n",
       "      <td>1377270078</td>\n",
       "      <td>http://twitter.com/download/android</td>\n",
       "      <td>Twitter for Android</td>\n",
       "      <td>False</td>\n",
       "      <td>zemmour</td>\n",
       "    </tr>\n",
       "    <tr>\n",
       "      <th>0</th>\n",
       "      <td>1503131518641836041</td>\n",
       "      <td>2022-03-13T22:10:55</td>\n",
       "      <td>1647209455</td>\n",
       "      <td>Merci à mes militants pour ces #48HdelaReconqu...</td>\n",
       "      <td>https://twitter.com/ZemmourEric/statuses/15031...</td>\n",
       "      <td>None</td>\n",
       "      <td>None</td>\n",
       "      <td>None</td>\n",
       "      <td>None</td>\n",
       "      <td>None</td>\n",
       "      <td>...</td>\n",
       "      <td>5949</td>\n",
       "      <td>613</td>\n",
       "      <td>1193</td>\n",
       "      <td>https://pbs.twimg.com/profile_images/150414107...</td>\n",
       "      <td>https://www.zemmour2022.fr/</td>\n",
       "      <td>1570983990</td>\n",
       "      <td>http://twitter.com/download/iphone</td>\n",
       "      <td>Twitter for iPhone</td>\n",
       "      <td>False</td>\n",
       "      <td>zemmour</td>\n",
       "    </tr>\n",
       "    <tr>\n",
       "      <th>0</th>\n",
       "      <td>1503131150436519947</td>\n",
       "      <td>2022-03-13T22:09:27</td>\n",
       "      <td>1647209367</td>\n",
       "      <td>35 ans que la France attend une véritable cand...</td>\n",
       "      <td>https://twitter.com/Marie_Lin777/statuses/1503...</td>\n",
       "      <td>None</td>\n",
       "      <td>None</td>\n",
       "      <td>None</td>\n",
       "      <td>None</td>\n",
       "      <td>None</td>\n",
       "      <td>...</td>\n",
       "      <td>29269</td>\n",
       "      <td>7123</td>\n",
       "      <td>52</td>\n",
       "      <td>https://pbs.twimg.com/profile_images/149880365...</td>\n",
       "      <td>None</td>\n",
       "      <td>1315855544</td>\n",
       "      <td>https://mobile.twitter.com</td>\n",
       "      <td>Twitter Web App</td>\n",
       "      <td>NaN</td>\n",
       "      <td>zemmour</td>\n",
       "    </tr>\n",
       "    <tr>\n",
       "      <th>0</th>\n",
       "      <td>1503123918961393670</td>\n",
       "      <td>2022-03-13T21:40:43</td>\n",
       "      <td>1647207643</td>\n",
       "      <td>Ce week end à Paris se tenait un meeting de so...</td>\n",
       "      <td>https://twitter.com/Portes_Thomas/statuses/150...</td>\n",
       "      <td>None</td>\n",
       "      <td>None</td>\n",
       "      <td>None</td>\n",
       "      <td>None</td>\n",
       "      <td>None</td>\n",
       "      <td>...</td>\n",
       "      <td>34831</td>\n",
       "      <td>7992</td>\n",
       "      <td>280</td>\n",
       "      <td>https://pbs.twimg.com/profile_images/150292750...</td>\n",
       "      <td>https://thomasportes.com</td>\n",
       "      <td>1394549893</td>\n",
       "      <td>http://twitter.com/download/iphone</td>\n",
       "      <td>Twitter for iPhone</td>\n",
       "      <td>NaN</td>\n",
       "      <td>zemmour</td>\n",
       "    </tr>\n",
       "    <tr>\n",
       "      <th>...</th>\n",
       "      <td>...</td>\n",
       "      <td>...</td>\n",
       "      <td>...</td>\n",
       "      <td>...</td>\n",
       "      <td>...</td>\n",
       "      <td>...</td>\n",
       "      <td>...</td>\n",
       "      <td>...</td>\n",
       "      <td>...</td>\n",
       "      <td>...</td>\n",
       "      <td>...</td>\n",
       "      <td>...</td>\n",
       "      <td>...</td>\n",
       "      <td>...</td>\n",
       "      <td>...</td>\n",
       "      <td>...</td>\n",
       "      <td>...</td>\n",
       "      <td>...</td>\n",
       "      <td>...</td>\n",
       "      <td>...</td>\n",
       "      <td>...</td>\n",
       "    </tr>\n",
       "    <tr>\n",
       "      <th>0</th>\n",
       "      <td>1477595526992478210</td>\n",
       "      <td>2022-01-02T11:00:00</td>\n",
       "      <td>1641121200</td>\n",
       "      <td>Scandaleux ! Sebastien Huyghe (LR) propose en ...</td>\n",
       "      <td>https://twitter.com/dupontaignan/statuses/1477...</td>\n",
       "      <td>None</td>\n",
       "      <td>None</td>\n",
       "      <td>None</td>\n",
       "      <td>None</td>\n",
       "      <td>None</td>\n",
       "      <td>...</td>\n",
       "      <td>24222</td>\n",
       "      <td>744</td>\n",
       "      <td>2005</td>\n",
       "      <td>https://pbs.twimg.com/profile_images/672054572...</td>\n",
       "      <td>http://www.2022nda.fr</td>\n",
       "      <td>1241614288</td>\n",
       "      <td>https://mobile.twitter.com</td>\n",
       "      <td>Twitter Web App</td>\n",
       "      <td>False</td>\n",
       "      <td>dupont_aignan</td>\n",
       "    </tr>\n",
       "    <tr>\n",
       "      <th>0</th>\n",
       "      <td>1477315236931715073</td>\n",
       "      <td>2022-01-01T16:26:14</td>\n",
       "      <td>1641054374</td>\n",
       "      <td>Face à ce gouv. qui ne maîtrise rien #Covid_19...</td>\n",
       "      <td>https://twitter.com/MartineWonner/statuses/147...</td>\n",
       "      <td>None</td>\n",
       "      <td>None</td>\n",
       "      <td>None</td>\n",
       "      <td>None</td>\n",
       "      <td>None</td>\n",
       "      <td>...</td>\n",
       "      <td>3187</td>\n",
       "      <td>13951</td>\n",
       "      <td>527</td>\n",
       "      <td>https://pbs.twimg.com/profile_images/147355620...</td>\n",
       "      <td>https://www.martinewonner.fr/</td>\n",
       "      <td>1496310697</td>\n",
       "      <td>http://twitter.com/download/android</td>\n",
       "      <td>Twitter for Android</td>\n",
       "      <td>False</td>\n",
       "      <td>dupont_aignan</td>\n",
       "    </tr>\n",
       "    <tr>\n",
       "      <th>0</th>\n",
       "      <td>1477305376731238408</td>\n",
       "      <td>2022-01-01T15:47:03</td>\n",
       "      <td>1641052023</td>\n",
       "      <td>900 #voitures ont #brûlé pendant la nuit de la...</td>\n",
       "      <td>https://twitter.com/dupontaignan/statuses/1477...</td>\n",
       "      <td>None</td>\n",
       "      <td>None</td>\n",
       "      <td>None</td>\n",
       "      <td>None</td>\n",
       "      <td>None</td>\n",
       "      <td>...</td>\n",
       "      <td>24222</td>\n",
       "      <td>744</td>\n",
       "      <td>2005</td>\n",
       "      <td>https://pbs.twimg.com/profile_images/672054572...</td>\n",
       "      <td>http://www.2022nda.fr</td>\n",
       "      <td>1241614288</td>\n",
       "      <td>http://twitter.com/download/iphone</td>\n",
       "      <td>Twitter for iPhone</td>\n",
       "      <td>NaN</td>\n",
       "      <td>dupont_aignan</td>\n",
       "    </tr>\n",
       "    <tr>\n",
       "      <th>0</th>\n",
       "      <td>1477278435613446146</td>\n",
       "      <td>2022-01-01T14:00:00</td>\n",
       "      <td>1641045600</td>\n",
       "      <td>✍🏻Je vous invite, au nom de nos libertés à sig...</td>\n",
       "      <td>https://twitter.com/dupontaignan/statuses/1477...</td>\n",
       "      <td>None</td>\n",
       "      <td>None</td>\n",
       "      <td>None</td>\n",
       "      <td>None</td>\n",
       "      <td>None</td>\n",
       "      <td>...</td>\n",
       "      <td>24222</td>\n",
       "      <td>744</td>\n",
       "      <td>2005</td>\n",
       "      <td>https://pbs.twimg.com/profile_images/672054572...</td>\n",
       "      <td>http://www.2022nda.fr</td>\n",
       "      <td>1241614288</td>\n",
       "      <td>https://mobile.twitter.com</td>\n",
       "      <td>Twitter Web App</td>\n",
       "      <td>False</td>\n",
       "      <td>dupont_aignan</td>\n",
       "    </tr>\n",
       "    <tr>\n",
       "      <th>0</th>\n",
       "      <td>1486127804093800451</td>\n",
       "      <td>2022-01-26T00:04:14</td>\n",
       "      <td>1643155454</td>\n",
       "      <td>Ma meilleure amie m’a dit qu’elle voterait #Un...</td>\n",
       "      <td>https://twitter.com/_heron_cendre/statuses/148...</td>\n",
       "      <td>None</td>\n",
       "      <td>None</td>\n",
       "      <td>None</td>\n",
       "      <td>None</td>\n",
       "      <td>None</td>\n",
       "      <td>...</td>\n",
       "      <td>4954</td>\n",
       "      <td>33720</td>\n",
       "      <td>2</td>\n",
       "      <td>https://pbs.twimg.com/profile_images/140122655...</td>\n",
       "      <td>None</td>\n",
       "      <td>1546740294</td>\n",
       "      <td>http://twitter.com/download/iphone</td>\n",
       "      <td>Twitter for iPhone</td>\n",
       "      <td>NaN</td>\n",
       "      <td>dupont_aignan</td>\n",
       "    </tr>\n",
       "  </tbody>\n",
       "</table>\n",
       "<p>10871 rows × 43 columns</p>\n",
       "</div>"
      ],
      "text/plain": [
       "                     id           local_time  timestamp_utc  \\\n",
       "0   1503136657918377990  2022-03-13T22:31:20     1647210680   \n",
       "0   1503134684427042816  2022-03-13T22:23:30     1647210210   \n",
       "0   1503131518641836041  2022-03-13T22:10:55     1647209455   \n",
       "0   1503131150436519947  2022-03-13T22:09:27     1647209367   \n",
       "0   1503123918961393670  2022-03-13T21:40:43     1647207643   \n",
       "..                  ...                  ...            ...   \n",
       "0   1477595526992478210  2022-01-02T11:00:00     1641121200   \n",
       "0   1477315236931715073  2022-01-01T16:26:14     1641054374   \n",
       "0   1477305376731238408  2022-01-01T15:47:03     1641052023   \n",
       "0   1477278435613446146  2022-01-01T14:00:00     1641045600   \n",
       "0   1486127804093800451  2022-01-26T00:04:14     1643155454   \n",
       "\n",
       "                                                 text  \\\n",
       "0   En ces #48HdelaReconquete j'ai décroché mon té...   \n",
       "0   @ZemmourEric à réussi à rassembler 3 génératio...   \n",
       "0   Merci à mes militants pour ces #48HdelaReconqu...   \n",
       "0   35 ans que la France attend une véritable cand...   \n",
       "0   Ce week end à Paris se tenait un meeting de so...   \n",
       "..                                                ...   \n",
       "0   Scandaleux ! Sebastien Huyghe (LR) propose en ...   \n",
       "0   Face à ce gouv. qui ne maîtrise rien #Covid_19...   \n",
       "0   900 #voitures ont #brûlé pendant la nuit de la...   \n",
       "0   ✍🏻Je vous invite, au nom de nos libertés à sig...   \n",
       "0   Ma meilleure amie m’a dit qu’elle voterait #Un...   \n",
       "\n",
       "                                                  url quoted_id quoted_user  \\\n",
       "0   https://twitter.com/AnthoMICHEL54/statuses/150...      None        None   \n",
       "0   https://twitter.com/sco_pan/statuses/150313468...      None        None   \n",
       "0   https://twitter.com/ZemmourEric/statuses/15031...      None        None   \n",
       "0   https://twitter.com/Marie_Lin777/statuses/1503...      None        None   \n",
       "0   https://twitter.com/Portes_Thomas/statuses/150...      None        None   \n",
       "..                                                ...       ...         ...   \n",
       "0   https://twitter.com/dupontaignan/statuses/1477...      None        None   \n",
       "0   https://twitter.com/MartineWonner/statuses/147...      None        None   \n",
       "0   https://twitter.com/dupontaignan/statuses/1477...      None        None   \n",
       "0   https://twitter.com/dupontaignan/statuses/1477...      None        None   \n",
       "0   https://twitter.com/_heron_cendre/statuses/148...      None        None   \n",
       "\n",
       "   quoted_user_id quoted_timestamp_utc retweeted_id  ... user_tweets  \\\n",
       "0            None                 None         None  ...        3223   \n",
       "0            None                 None         None  ...       11803   \n",
       "0            None                 None         None  ...        5949   \n",
       "0            None                 None         None  ...       29269   \n",
       "0            None                 None         None  ...       34831   \n",
       "..            ...                  ...          ...  ...         ...   \n",
       "0            None                 None         None  ...       24222   \n",
       "0            None                 None         None  ...        3187   \n",
       "0            None                 None         None  ...       24222   \n",
       "0            None                 None         None  ...       24222   \n",
       "0            None                 None         None  ...        4954   \n",
       "\n",
       "   user_likes user_lists                                         user_image  \\\n",
       "0       13286          0  https://pbs.twimg.com/profile_images/146737661...   \n",
       "0       13546          9  https://pbs.twimg.com/profile_images/150335820...   \n",
       "0         613       1193  https://pbs.twimg.com/profile_images/150414107...   \n",
       "0        7123         52  https://pbs.twimg.com/profile_images/149880365...   \n",
       "0        7992        280  https://pbs.twimg.com/profile_images/150292750...   \n",
       "..        ...        ...                                                ...   \n",
       "0         744       2005  https://pbs.twimg.com/profile_images/672054572...   \n",
       "0       13951        527  https://pbs.twimg.com/profile_images/147355620...   \n",
       "0         744       2005  https://pbs.twimg.com/profile_images/672054572...   \n",
       "0         744       2005  https://pbs.twimg.com/profile_images/672054572...   \n",
       "0       33720          2  https://pbs.twimg.com/profile_images/140122655...   \n",
       "\n",
       "                         user_url  user_timestamp_utc  \\\n",
       "0                            None          1503569278   \n",
       "0                            None          1377270078   \n",
       "0     https://www.zemmour2022.fr/          1570983990   \n",
       "0                            None          1315855544   \n",
       "0        https://thomasportes.com          1394549893   \n",
       "..                            ...                 ...   \n",
       "0           http://www.2022nda.fr          1241614288   \n",
       "0   https://www.martinewonner.fr/          1496310697   \n",
       "0           http://www.2022nda.fr          1241614288   \n",
       "0           http://www.2022nda.fr          1241614288   \n",
       "0                            None          1546740294   \n",
       "\n",
       "                             source_url          source_name  \\\n",
       "0            https://mobile.twitter.com      Twitter Web App   \n",
       "0   http://twitter.com/download/android  Twitter for Android   \n",
       "0    http://twitter.com/download/iphone   Twitter for iPhone   \n",
       "0            https://mobile.twitter.com      Twitter Web App   \n",
       "0    http://twitter.com/download/iphone   Twitter for iPhone   \n",
       "..                                  ...                  ...   \n",
       "0            https://mobile.twitter.com      Twitter Web App   \n",
       "0   http://twitter.com/download/android  Twitter for Android   \n",
       "0    http://twitter.com/download/iphone   Twitter for iPhone   \n",
       "0            https://mobile.twitter.com      Twitter Web App   \n",
       "0    http://twitter.com/download/iphone   Twitter for iPhone   \n",
       "\n",
       "   possibly_sensitive      candidate  \n",
       "0                 NaN        zemmour  \n",
       "0               False        zemmour  \n",
       "0               False        zemmour  \n",
       "0                 NaN        zemmour  \n",
       "0                 NaN        zemmour  \n",
       "..                ...            ...  \n",
       "0               False  dupont_aignan  \n",
       "0               False  dupont_aignan  \n",
       "0                 NaN  dupont_aignan  \n",
       "0               False  dupont_aignan  \n",
       "0                 NaN  dupont_aignan  \n",
       "\n",
       "[10871 rows x 43 columns]"
      ]
     },
     "execution_count": 52,
     "metadata": {},
     "output_type": "execute_result"
    }
   ],
   "source": [
    "%time df_tweets = main_tweets()"
   ]
  },
  {
   "cell_type": "code",
   "execution_count": 53,
   "id": "3a8dac78",
   "metadata": {
    "hidden": true
   },
   "outputs": [
    {
     "name": "stdout",
     "output_type": "stream",
     "text": [
      "-----------------------\n",
      "zemmour\n",
      "@ZemmourEric\n",
      "3838\n",
      "@Reconquete2022\n",
      "259\n",
      "-----------------------\n",
      "le_pen\n",
      "@MLP_officiel\n",
      "1229\n",
      "@RNational_off\n",
      "163\n",
      "-----------------------\n",
      "roussel\n",
      "@Fabien_Roussel\n",
      "314\n",
      "@PCF\n",
      "31\n",
      "-----------------------\n",
      "melenchon\n",
      "@JLMelenchon\n",
      "2543\n",
      "@FranceInsoumise\n",
      "115\n",
      "-----------------------\n",
      "jadot\n",
      "@yjadot\n",
      "315\n",
      "@EELV\n",
      "27\n",
      "-----------------------\n",
      "hidalgo\n",
      "@Anne_Hidalgo\n",
      "297\n",
      "@partisocialiste\n",
      "27\n",
      "-----------------------\n",
      "pecresse\n",
      "@vpecresse\n",
      "1074\n",
      "@lesRepublicains\n",
      "230\n",
      "-----------------------\n",
      "poutou\n",
      "@PhilippePoutou\n",
      "127\n",
      "@NPA_officiel\n",
      "7\n",
      "-----------------------\n",
      "arthaud\n",
      "@n_arthaud\n",
      "24\n",
      "@LutteOuvriere\n",
      "1\n",
      "-----------------------\n",
      "lassale\n",
      "@jeanlassalle\n",
      "21\n",
      "-----------------------\n",
      "dupont_aignan\n",
      "@dupontaignan\n",
      "224\n",
      "@DLF_Officiel\n",
      "1\n",
      "Wall time: 8min 7s\n"
     ]
    }
   ],
   "source": [
    "%time df_tweets = main_tweets()"
   ]
  },
  {
   "cell_type": "code",
   "execution_count": 54,
   "id": "edf9c392",
   "metadata": {
    "hidden": true
   },
   "outputs": [],
   "source": [
    "#Saving df_tweets as csv:\n",
    "df_tweets.to_csv('data/tweets/df_tweets_16032022.csv')"
   ]
  },
  {
   "cell_type": "code",
   "execution_count": 59,
   "id": "ae38a625",
   "metadata": {
    "hidden": true
   },
   "outputs": [
    {
     "data": {
      "text/plain": [
       "(10867, 43)"
      ]
     },
     "execution_count": 59,
     "metadata": {},
     "output_type": "execute_result"
    }
   ],
   "source": [
    "df_tweets.shape"
   ]
  },
  {
   "cell_type": "markdown",
   "id": "9ad19c79",
   "metadata": {
    "heading_collapsed": true
   },
   "source": [
    "### Importing tweets"
   ]
  },
  {
   "cell_type": "code",
   "execution_count": 3,
   "id": "a9ec1199",
   "metadata": {
    "hidden": true
   },
   "outputs": [],
   "source": [
    "df_tweets = pd.read_csv('data/tweets/df_tweets_16032022.csv')"
   ]
  },
  {
   "cell_type": "code",
   "execution_count": 4,
   "id": "5f315c32",
   "metadata": {
    "hidden": true
   },
   "outputs": [
    {
     "data": {
      "text/plain": [
       "Index(['Unnamed: 0', 'id', 'local_time', 'timestamp_utc', 'text', 'url',\n",
       "       'quoted_id', 'quoted_user', 'quoted_user_id', 'quoted_timestamp_utc',\n",
       "       'retweeted_id', 'retweeted_user', 'retweeted_user_id',\n",
       "       'retweeted_timestamp_utc', 'links_to_resolve', 'collection_time',\n",
       "       'match_query', 'coordinates', 'to_tweetid', 'to_username', 'to_userid',\n",
       "       'lang', 'retweet_count', 'like_count', 'reply_count', 'user_id',\n",
       "       'user_screen_name', 'user_name', 'user_friends', 'user_followers',\n",
       "       'user_location', 'user_verified', 'user_description', 'user_created_at',\n",
       "       'user_tweets', 'user_likes', 'user_lists', 'user_image', 'user_url',\n",
       "       'user_timestamp_utc', 'source_url', 'source_name', 'possibly_sensitive',\n",
       "       'candidate'],\n",
       "      dtype='object')"
      ]
     },
     "execution_count": 4,
     "metadata": {},
     "output_type": "execute_result"
    }
   ],
   "source": [
    "df_tweets.columns"
   ]
  },
  {
   "cell_type": "code",
   "execution_count": 5,
   "id": "9cb1a505",
   "metadata": {
    "hidden": true
   },
   "outputs": [
    {
     "data": {
      "text/html": [
       "<div>\n",
       "<style scoped>\n",
       "    .dataframe tbody tr th:only-of-type {\n",
       "        vertical-align: middle;\n",
       "    }\n",
       "\n",
       "    .dataframe tbody tr th {\n",
       "        vertical-align: top;\n",
       "    }\n",
       "\n",
       "    .dataframe thead th {\n",
       "        text-align: right;\n",
       "    }\n",
       "</style>\n",
       "<table border=\"1\" class=\"dataframe\">\n",
       "  <thead>\n",
       "    <tr style=\"text-align: right;\">\n",
       "      <th></th>\n",
       "      <th>Unnamed: 0</th>\n",
       "      <th>id</th>\n",
       "      <th>local_time</th>\n",
       "      <th>timestamp_utc</th>\n",
       "      <th>text</th>\n",
       "      <th>url</th>\n",
       "      <th>quoted_id</th>\n",
       "      <th>quoted_user</th>\n",
       "      <th>quoted_user_id</th>\n",
       "      <th>quoted_timestamp_utc</th>\n",
       "      <th>...</th>\n",
       "      <th>user_tweets</th>\n",
       "      <th>user_likes</th>\n",
       "      <th>user_lists</th>\n",
       "      <th>user_image</th>\n",
       "      <th>user_url</th>\n",
       "      <th>user_timestamp_utc</th>\n",
       "      <th>source_url</th>\n",
       "      <th>source_name</th>\n",
       "      <th>possibly_sensitive</th>\n",
       "      <th>candidate</th>\n",
       "    </tr>\n",
       "  </thead>\n",
       "  <tbody>\n",
       "    <tr>\n",
       "      <th>0</th>\n",
       "      <td>0</td>\n",
       "      <td>1503136657918377990</td>\n",
       "      <td>2022-03-13T22:31:20</td>\n",
       "      <td>1647210680</td>\n",
       "      <td>En ces #48HdelaReconquete j'ai décroché mon té...</td>\n",
       "      <td>https://twitter.com/AnthoMICHEL54/statuses/150...</td>\n",
       "      <td>NaN</td>\n",
       "      <td>NaN</td>\n",
       "      <td>NaN</td>\n",
       "      <td>NaN</td>\n",
       "      <td>...</td>\n",
       "      <td>3223</td>\n",
       "      <td>13286</td>\n",
       "      <td>0</td>\n",
       "      <td>https://pbs.twimg.com/profile_images/146737661...</td>\n",
       "      <td>NaN</td>\n",
       "      <td>1503569278</td>\n",
       "      <td>https://mobile.twitter.com</td>\n",
       "      <td>Twitter Web App</td>\n",
       "      <td>NaN</td>\n",
       "      <td>zemmour</td>\n",
       "    </tr>\n",
       "    <tr>\n",
       "      <th>1</th>\n",
       "      <td>0</td>\n",
       "      <td>1503134684427042816</td>\n",
       "      <td>2022-03-13T22:23:30</td>\n",
       "      <td>1647210210</td>\n",
       "      <td>@ZemmourEric à réussi à rassembler 3 génératio...</td>\n",
       "      <td>https://twitter.com/sco_pan/statuses/150313468...</td>\n",
       "      <td>NaN</td>\n",
       "      <td>NaN</td>\n",
       "      <td>NaN</td>\n",
       "      <td>NaN</td>\n",
       "      <td>...</td>\n",
       "      <td>11803</td>\n",
       "      <td>13546</td>\n",
       "      <td>9</td>\n",
       "      <td>https://pbs.twimg.com/profile_images/150335820...</td>\n",
       "      <td>NaN</td>\n",
       "      <td>1377270078</td>\n",
       "      <td>http://twitter.com/download/android</td>\n",
       "      <td>Twitter for Android</td>\n",
       "      <td>False</td>\n",
       "      <td>zemmour</td>\n",
       "    </tr>\n",
       "    <tr>\n",
       "      <th>2</th>\n",
       "      <td>0</td>\n",
       "      <td>1503131518641836041</td>\n",
       "      <td>2022-03-13T22:10:55</td>\n",
       "      <td>1647209455</td>\n",
       "      <td>Merci à mes militants pour ces #48HdelaReconqu...</td>\n",
       "      <td>https://twitter.com/ZemmourEric/statuses/15031...</td>\n",
       "      <td>NaN</td>\n",
       "      <td>NaN</td>\n",
       "      <td>NaN</td>\n",
       "      <td>NaN</td>\n",
       "      <td>...</td>\n",
       "      <td>5949</td>\n",
       "      <td>613</td>\n",
       "      <td>1193</td>\n",
       "      <td>https://pbs.twimg.com/profile_images/150414107...</td>\n",
       "      <td>https://www.zemmour2022.fr/</td>\n",
       "      <td>1570983990</td>\n",
       "      <td>http://twitter.com/download/iphone</td>\n",
       "      <td>Twitter for iPhone</td>\n",
       "      <td>False</td>\n",
       "      <td>zemmour</td>\n",
       "    </tr>\n",
       "    <tr>\n",
       "      <th>3</th>\n",
       "      <td>0</td>\n",
       "      <td>1503131150436519947</td>\n",
       "      <td>2022-03-13T22:09:27</td>\n",
       "      <td>1647209367</td>\n",
       "      <td>35 ans que la France attend une véritable cand...</td>\n",
       "      <td>https://twitter.com/Marie_Lin777/statuses/1503...</td>\n",
       "      <td>NaN</td>\n",
       "      <td>NaN</td>\n",
       "      <td>NaN</td>\n",
       "      <td>NaN</td>\n",
       "      <td>...</td>\n",
       "      <td>29269</td>\n",
       "      <td>7123</td>\n",
       "      <td>52</td>\n",
       "      <td>https://pbs.twimg.com/profile_images/149880365...</td>\n",
       "      <td>NaN</td>\n",
       "      <td>1315855544</td>\n",
       "      <td>https://mobile.twitter.com</td>\n",
       "      <td>Twitter Web App</td>\n",
       "      <td>NaN</td>\n",
       "      <td>zemmour</td>\n",
       "    </tr>\n",
       "    <tr>\n",
       "      <th>4</th>\n",
       "      <td>0</td>\n",
       "      <td>1503123918961393670</td>\n",
       "      <td>2022-03-13T21:40:43</td>\n",
       "      <td>1647207643</td>\n",
       "      <td>Ce week end à Paris se tenait un meeting de so...</td>\n",
       "      <td>https://twitter.com/Portes_Thomas/statuses/150...</td>\n",
       "      <td>NaN</td>\n",
       "      <td>NaN</td>\n",
       "      <td>NaN</td>\n",
       "      <td>NaN</td>\n",
       "      <td>...</td>\n",
       "      <td>34831</td>\n",
       "      <td>7992</td>\n",
       "      <td>280</td>\n",
       "      <td>https://pbs.twimg.com/profile_images/150292750...</td>\n",
       "      <td>https://thomasportes.com</td>\n",
       "      <td>1394549893</td>\n",
       "      <td>http://twitter.com/download/iphone</td>\n",
       "      <td>Twitter for iPhone</td>\n",
       "      <td>NaN</td>\n",
       "      <td>zemmour</td>\n",
       "    </tr>\n",
       "  </tbody>\n",
       "</table>\n",
       "<p>5 rows × 44 columns</p>\n",
       "</div>"
      ],
      "text/plain": [
       "   Unnamed: 0                   id           local_time  timestamp_utc  \\\n",
       "0           0  1503136657918377990  2022-03-13T22:31:20     1647210680   \n",
       "1           0  1503134684427042816  2022-03-13T22:23:30     1647210210   \n",
       "2           0  1503131518641836041  2022-03-13T22:10:55     1647209455   \n",
       "3           0  1503131150436519947  2022-03-13T22:09:27     1647209367   \n",
       "4           0  1503123918961393670  2022-03-13T21:40:43     1647207643   \n",
       "\n",
       "                                                text  \\\n",
       "0  En ces #48HdelaReconquete j'ai décroché mon té...   \n",
       "1  @ZemmourEric à réussi à rassembler 3 génératio...   \n",
       "2  Merci à mes militants pour ces #48HdelaReconqu...   \n",
       "3  35 ans que la France attend une véritable cand...   \n",
       "4  Ce week end à Paris se tenait un meeting de so...   \n",
       "\n",
       "                                                 url  quoted_id quoted_user  \\\n",
       "0  https://twitter.com/AnthoMICHEL54/statuses/150...        NaN         NaN   \n",
       "1  https://twitter.com/sco_pan/statuses/150313468...        NaN         NaN   \n",
       "2  https://twitter.com/ZemmourEric/statuses/15031...        NaN         NaN   \n",
       "3  https://twitter.com/Marie_Lin777/statuses/1503...        NaN         NaN   \n",
       "4  https://twitter.com/Portes_Thomas/statuses/150...        NaN         NaN   \n",
       "\n",
       "   quoted_user_id  quoted_timestamp_utc  ...  user_tweets  user_likes  \\\n",
       "0             NaN                   NaN  ...         3223       13286   \n",
       "1             NaN                   NaN  ...        11803       13546   \n",
       "2             NaN                   NaN  ...         5949         613   \n",
       "3             NaN                   NaN  ...        29269        7123   \n",
       "4             NaN                   NaN  ...        34831        7992   \n",
       "\n",
       "   user_lists                                         user_image  \\\n",
       "0           0  https://pbs.twimg.com/profile_images/146737661...   \n",
       "1           9  https://pbs.twimg.com/profile_images/150335820...   \n",
       "2        1193  https://pbs.twimg.com/profile_images/150414107...   \n",
       "3          52  https://pbs.twimg.com/profile_images/149880365...   \n",
       "4         280  https://pbs.twimg.com/profile_images/150292750...   \n",
       "\n",
       "                      user_url user_timestamp_utc  \\\n",
       "0                          NaN         1503569278   \n",
       "1                          NaN         1377270078   \n",
       "2  https://www.zemmour2022.fr/         1570983990   \n",
       "3                          NaN         1315855544   \n",
       "4     https://thomasportes.com         1394549893   \n",
       "\n",
       "                            source_url          source_name  \\\n",
       "0           https://mobile.twitter.com      Twitter Web App   \n",
       "1  http://twitter.com/download/android  Twitter for Android   \n",
       "2   http://twitter.com/download/iphone   Twitter for iPhone   \n",
       "3           https://mobile.twitter.com      Twitter Web App   \n",
       "4   http://twitter.com/download/iphone   Twitter for iPhone   \n",
       "\n",
       "   possibly_sensitive candidate  \n",
       "0                 NaN   zemmour  \n",
       "1               False   zemmour  \n",
       "2               False   zemmour  \n",
       "3                 NaN   zemmour  \n",
       "4                 NaN   zemmour  \n",
       "\n",
       "[5 rows x 44 columns]"
      ]
     },
     "execution_count": 5,
     "metadata": {},
     "output_type": "execute_result"
    }
   ],
   "source": [
    "df_tweets.head()"
   ]
  },
  {
   "cell_type": "markdown",
   "id": "ac1c63a6",
   "metadata": {
    "hidden": true
   },
   "source": [
    "#### Simple clean:"
   ]
  },
  {
   "cell_type": "code",
   "execution_count": 8,
   "id": "163b4ac3",
   "metadata": {
    "hidden": true
   },
   "outputs": [],
   "source": [
    "#Selected_cols:\n",
    "selected_tweet_cols = ['id', 'local_time', 'retweet_count', 'like_count', 'reply_count', 'candidate']\n",
    "\n",
    "df_tweets_clean = df_tweets[selected_tweet_cols].copy()\n",
    "\n",
    "#To datetime:\n",
    "df_tweets_clean['day'] = pd.to_datetime(df_tweets_clean['local_time']).dt.date\n",
    "\n",
    "\n",
    "#Retrieving week number and checking the year:\n",
    "#df_tweets_clean['n_week'] = df_tweets_clean['local_time'].apply(lambda x: x.isocalendar()[1])\n",
    "df_tweets_clean['year'] = df_tweets_clean['day'].apply(lambda x: x.isocalendar()[0])\n",
    "\n",
    "#Slicing 2022:\n",
    "df_tweets_clean = df_tweets_clean[df_tweets_clean['year']==2022]\n",
    "\n",
    "#Grouping by candidate and week number and suming:\n",
    "df_tweets_clean = df_tweets_clean.groupby(['candidate', 'day']).agg(\n",
    "    {'id':'count', 'retweet_count': 'sum', 'like_count':'sum', 'reply_count':'sum'})\\\n",
    ".reset_index().rename(columns={'id':'tweet_count'})"
   ]
  },
  {
   "cell_type": "markdown",
   "id": "b430320f",
   "metadata": {
    "heading_collapsed": true
   },
   "source": [
    "### Saving tweets"
   ]
  },
  {
   "cell_type": "code",
   "execution_count": 10,
   "id": "40751356",
   "metadata": {
    "hidden": true
   },
   "outputs": [],
   "source": [
    "df_tweets_clean.to_csv('data/clean_df_tweets.csv', index=False)"
   ]
  },
  {
   "cell_type": "markdown",
   "id": "22003114",
   "metadata": {},
   "source": [
    "## Tweets - 10 RT"
   ]
  },
  {
   "cell_type": "code",
   "execution_count": 44,
   "id": "d0a21187",
   "metadata": {},
   "outputs": [],
   "source": [
    "#Listing all the files in the folder:\n",
    "rel_path_tweets_10RT = 'data/tweets/10'\n",
    "files_tweets_10RT = [f for f in listdir(rel_path_tweets_10RT) if isfile(join(rel_path_tweets_10RT, f))]\n",
    "#Initializing a pd df:\n",
    "df_tweets_10RT = pd.DataFrame()\n",
    "for f in files_tweets_10RT:\n",
    "    df_temp = pd.read_csv(rel_path_tweets_10RT+'/'+f)\n",
    "    #Concat:\n",
    "    df_tweets_10RT = pd.concat([df_tweets_10RT, df_temp])"
   ]
  },
  {
   "cell_type": "markdown",
   "id": "723aab0d",
   "metadata": {},
   "source": [
    "#### Simple clean:"
   ]
  },
  {
   "cell_type": "code",
   "execution_count": 12,
   "id": "3f7d278a",
   "metadata": {},
   "outputs": [],
   "source": [
    "#Selected_cols:\n",
    "selected_tweet_cols = ['id', 'local_time', 'retweet_count', 'like_count', 'reply_count', 'candidate']\n",
    "\n",
    "df_tweets_clean = df_tweets_10RT[selected_tweet_cols].copy()\n",
    "\n",
    "#To datetime:\n",
    "df_tweets_clean['day'] = pd.to_datetime(df_tweets_clean['local_time']).dt.date\n",
    "\n",
    "\n",
    "#Retrieving week number and checking the year:\n",
    "#df_tweets_clean['n_week'] = df_tweets_clean['local_time'].apply(lambda x: x.isocalendar()[1])\n",
    "df_tweets_clean['year'] = df_tweets_clean['day'].apply(lambda x: x.isocalendar()[0])\n",
    "\n",
    "#Slicing 2022:\n",
    "df_tweets_clean = df_tweets_clean[df_tweets_clean['year']==2022]\n",
    "\n",
    "#Grouping by candidate and week number and suming:\n",
    "df_tweets_clean = df_tweets_clean.groupby(['candidate', 'day']).agg(\n",
    "    {'id':'count', 'retweet_count': 'sum', 'like_count':'sum', 'reply_count':'sum'})\\\n",
    ".reset_index().rename(columns={'id':'tweet_count'})"
   ]
  },
  {
   "cell_type": "markdown",
   "id": "9f4ee39f",
   "metadata": {},
   "source": [
    "### Saving tweets"
   ]
  },
  {
   "cell_type": "code",
   "execution_count": 13,
   "id": "cdb93aca",
   "metadata": {},
   "outputs": [],
   "source": [
    "df_tweets_clean.to_csv('data/clean_df_tweets_10RT.csv', index=False)"
   ]
  },
  {
   "cell_type": "markdown",
   "id": "051666be",
   "metadata": {},
   "source": [
    "## Factiva"
   ]
  },
  {
   "cell_type": "markdown",
   "id": "7c6174da",
   "metadata": {},
   "source": [
    "\"Prénom nom\"\n",
    "\n",
    "Du 01/01/2022 au 14/03/2022\n",
    "\n",
    "Rechercher en texte libre dans: \"Titre et premier paragraphe\"\n",
    "\n",
    "Doublons: \"similaire\"\n",
    "\n",
    "\n",
    "**Pour L'instant: TOUS LES DOCUMENTS!!!**\n",
    "\n",
    "--> il faudrait peut-être faire des distinctions (Publications papier/sites web....)"
   ]
  },
  {
   "cell_type": "code",
   "execution_count": 14,
   "id": "656bcb98",
   "metadata": {},
   "outputs": [],
   "source": [
    "#Initializing a pandas DF for Factiva:\n",
    "df_factiva_aggregated = pd.DataFrame()\n",
    "\n",
    "#Listing all the files in the folder:\n",
    "rel_path_factiva = 'data/factiva'\n",
    "files_factiva = [f for f in listdir(rel_path_factiva) if isfile(join(rel_path_factiva, f))]\n",
    "\n",
    "#Looping over the files:\n",
    "for f_factiva in files_factiva:\n",
    "    name = f_factiva.split('_')[1].split('.')[0]\n",
    "    #Retrieving the data - we have to skip some rows\n",
    "    df_temp = pd.read_csv(rel_path_factiva+'/'+f_factiva, sep = ',', skiprows=4)\n",
    "    \n",
    "    #We also have to delete foot rows:\n",
    "    #Localizing the end: \n",
    "    loc_end = df_temp[df_temp['Date']=='Sommaire de la recherche'].index[0]\n",
    "    #Only selecting the right data:\n",
    "    df_temp = df_temp.loc[:loc_end-1].copy()\n",
    "    #Specifying the candate's name:\n",
    "    df_temp['candidat']=name\n",
    "    #Concat:\n",
    "    df_factiva_aggregated = pd.concat([df_factiva_aggregated, df_temp]).reset_index(drop=True)"
   ]
  },
  {
   "cell_type": "code",
   "execution_count": 15,
   "id": "7f8268a6",
   "metadata": {},
   "outputs": [
    {
     "data": {
      "text/html": [
       "<div>\n",
       "<style scoped>\n",
       "    .dataframe tbody tr th:only-of-type {\n",
       "        vertical-align: middle;\n",
       "    }\n",
       "\n",
       "    .dataframe tbody tr th {\n",
       "        vertical-align: top;\n",
       "    }\n",
       "\n",
       "    .dataframe thead th {\n",
       "        text-align: right;\n",
       "    }\n",
       "</style>\n",
       "<table border=\"1\" class=\"dataframe\">\n",
       "  <thead>\n",
       "    <tr style=\"text-align: right;\">\n",
       "      <th></th>\n",
       "      <th>Date</th>\n",
       "      <th>Nombres de documents</th>\n",
       "      <th>candidat</th>\n",
       "    </tr>\n",
       "  </thead>\n",
       "  <tbody>\n",
       "    <tr>\n",
       "      <th>96</th>\n",
       "      <td>Date de début: 3 janvier 2022 Date de fin: 9 j...</td>\n",
       "      <td>812</td>\n",
       "      <td>pecresse</td>\n",
       "    </tr>\n",
       "    <tr>\n",
       "      <th>29</th>\n",
       "      <td>Date de début: 7 février 2022 Date de fin: 13 ...</td>\n",
       "      <td>357</td>\n",
       "      <td>hidalgo</td>\n",
       "    </tr>\n",
       "    <tr>\n",
       "      <th>53</th>\n",
       "      <td>Date de début: 7 février 2022 Date de fin: 13 ...</td>\n",
       "      <td>51</td>\n",
       "      <td>lassale</td>\n",
       "    </tr>\n",
       "    <tr>\n",
       "      <th>38</th>\n",
       "      <td>Date de début: 17 janvier 2022 Date de fin: 23...</td>\n",
       "      <td>408</td>\n",
       "      <td>jadot</td>\n",
       "    </tr>\n",
       "    <tr>\n",
       "      <th>111</th>\n",
       "      <td>Date de début: 31 janvier 2022 Date de fin: 6 ...</td>\n",
       "      <td>47</td>\n",
       "      <td>poutou</td>\n",
       "    </tr>\n",
       "    <tr>\n",
       "      <th>82</th>\n",
       "      <td>Date de début: 14 mars 2022 Date de fin: 20 ma...</td>\n",
       "      <td>574</td>\n",
       "      <td>macron</td>\n",
       "    </tr>\n",
       "    <tr>\n",
       "      <th>75</th>\n",
       "      <td>Date de début: 24 janvier 2022 Date de fin: 30...</td>\n",
       "      <td>3940</td>\n",
       "      <td>macron</td>\n",
       "    </tr>\n",
       "    <tr>\n",
       "      <th>85</th>\n",
       "      <td>Date de début: 10 janvier 2022 Date de fin: 16...</td>\n",
       "      <td>493</td>\n",
       "      <td>melenchon</td>\n",
       "    </tr>\n",
       "    <tr>\n",
       "      <th>90</th>\n",
       "      <td>Date de début: 14 février 2022 Date de fin: 20...</td>\n",
       "      <td>435</td>\n",
       "      <td>melenchon</td>\n",
       "    </tr>\n",
       "    <tr>\n",
       "      <th>51</th>\n",
       "      <td>Date de début: 24 janvier 2022 Date de fin: 30...</td>\n",
       "      <td>16</td>\n",
       "      <td>lassale</td>\n",
       "    </tr>\n",
       "  </tbody>\n",
       "</table>\n",
       "</div>"
      ],
      "text/plain": [
       "                                                  Date Nombres de documents  \\\n",
       "96   Date de début: 3 janvier 2022 Date de fin: 9 j...                  812   \n",
       "29   Date de début: 7 février 2022 Date de fin: 13 ...                  357   \n",
       "53   Date de début: 7 février 2022 Date de fin: 13 ...                   51   \n",
       "38   Date de début: 17 janvier 2022 Date de fin: 23...                  408   \n",
       "111  Date de début: 31 janvier 2022 Date de fin: 6 ...                   47   \n",
       "82   Date de début: 14 mars 2022 Date de fin: 20 ma...                  574   \n",
       "75   Date de début: 24 janvier 2022 Date de fin: 30...                 3940   \n",
       "85   Date de début: 10 janvier 2022 Date de fin: 16...                  493   \n",
       "90   Date de début: 14 février 2022 Date de fin: 20...                  435   \n",
       "51   Date de début: 24 janvier 2022 Date de fin: 30...                   16   \n",
       "\n",
       "      candidat  \n",
       "96    pecresse  \n",
       "29     hidalgo  \n",
       "53     lassale  \n",
       "38       jadot  \n",
       "111     poutou  \n",
       "82      macron  \n",
       "75      macron  \n",
       "85   melenchon  \n",
       "90   melenchon  \n",
       "51     lassale  "
      ]
     },
     "execution_count": 15,
     "metadata": {},
     "output_type": "execute_result"
    }
   ],
   "source": [
    "df_factiva_aggregated.sample(10)"
   ]
  },
  {
   "cell_type": "markdown",
   "id": "d8535d8b",
   "metadata": {},
   "source": [
    "We then have to retrieve the dates properly:"
   ]
  },
  {
   "cell_type": "code",
   "execution_count": 17,
   "id": "06497306",
   "metadata": {},
   "outputs": [],
   "source": [
    "#Retrieveing the dates properly:\n",
    "df_factiva_aggregated[['start_date', 'end_date']] = df_factiva_aggregated['Date'].apply(lambda x: \n",
    "                                        pd.Series(x.split('Date de début: ')[1].split(' Date de fin: ')))\n",
    "#We can now del the 'Date' column:\n",
    "del df_factiva_aggregated['Date']"
   ]
  },
  {
   "cell_type": "code",
   "execution_count": 18,
   "id": "80abc8f9",
   "metadata": {},
   "outputs": [],
   "source": [
    "#Parsing the dates:\n",
    "df_factiva_aggregated['start_date'] =  df_factiva_aggregated['start_date'].apply(lambda x:dateparser.parse(x).date())\n",
    "df_factiva_aggregated['end_date'] =  df_factiva_aggregated['end_date'].apply(lambda x:dateparser.parse(x).date()) "
   ]
  },
  {
   "cell_type": "code",
   "execution_count": 19,
   "id": "ff83aac6",
   "metadata": {},
   "outputs": [],
   "source": [
    "#Right types:\n",
    "df_factiva_aggregated['start_date']=pd.to_datetime(df_factiva_aggregated['start_date'])\n",
    "df_factiva_aggregated['end_date']=pd.to_datetime(df_factiva_aggregated['end_date'])\n",
    "df_factiva_aggregated['Nombres de documents'] = df_factiva_aggregated['Nombres de documents'].astype(int)\n",
    "\n",
    "\n",
    "#Week number from end_date:\n",
    "#df_factiva_aggregated['n_week'] = df_factiva_aggregated['end_date'].apply(lambda x: x.isocalendar()[1])\n",
    "df_factiva_aggregated['year'] = df_factiva_aggregated['end_date'].apply(lambda x: x.isocalendar()[0])\n",
    "\n",
    "#Selecting only the year 2022:\n",
    "df_factiva_aggregated = df_factiva_aggregated[df_factiva_aggregated['year']==2022]\n",
    "\n",
    "#Creating a new cleaned df:\n",
    "df_factiva_clean = df_factiva_aggregated.reset_index(drop=True).copy()"
   ]
  },
  {
   "cell_type": "code",
   "execution_count": 20,
   "id": "cf0a15c7",
   "metadata": {},
   "outputs": [
    {
     "data": {
      "text/html": [
       "<div>\n",
       "<style scoped>\n",
       "    .dataframe tbody tr th:only-of-type {\n",
       "        vertical-align: middle;\n",
       "    }\n",
       "\n",
       "    .dataframe tbody tr th {\n",
       "        vertical-align: top;\n",
       "    }\n",
       "\n",
       "    .dataframe thead th {\n",
       "        text-align: right;\n",
       "    }\n",
       "</style>\n",
       "<table border=\"1\" class=\"dataframe\">\n",
       "  <thead>\n",
       "    <tr style=\"text-align: right;\">\n",
       "      <th></th>\n",
       "      <th>Nombres de documents</th>\n",
       "      <th>candidat</th>\n",
       "      <th>start_date</th>\n",
       "      <th>end_date</th>\n",
       "      <th>year</th>\n",
       "    </tr>\n",
       "  </thead>\n",
       "  <tbody>\n",
       "    <tr>\n",
       "      <th>0</th>\n",
       "      <td>3</td>\n",
       "      <td>arthaud</td>\n",
       "      <td>2022-01-03</td>\n",
       "      <td>2022-01-09</td>\n",
       "      <td>2022</td>\n",
       "    </tr>\n",
       "    <tr>\n",
       "      <th>1</th>\n",
       "      <td>14</td>\n",
       "      <td>arthaud</td>\n",
       "      <td>2022-01-10</td>\n",
       "      <td>2022-01-16</td>\n",
       "      <td>2022</td>\n",
       "    </tr>\n",
       "    <tr>\n",
       "      <th>2</th>\n",
       "      <td>22</td>\n",
       "      <td>arthaud</td>\n",
       "      <td>2022-01-17</td>\n",
       "      <td>2022-01-23</td>\n",
       "      <td>2022</td>\n",
       "    </tr>\n",
       "    <tr>\n",
       "      <th>3</th>\n",
       "      <td>28</td>\n",
       "      <td>arthaud</td>\n",
       "      <td>2022-01-24</td>\n",
       "      <td>2022-01-30</td>\n",
       "      <td>2022</td>\n",
       "    </tr>\n",
       "    <tr>\n",
       "      <th>4</th>\n",
       "      <td>29</td>\n",
       "      <td>arthaud</td>\n",
       "      <td>2022-01-31</td>\n",
       "      <td>2022-02-06</td>\n",
       "      <td>2022</td>\n",
       "    </tr>\n",
       "  </tbody>\n",
       "</table>\n",
       "</div>"
      ],
      "text/plain": [
       "   Nombres de documents candidat start_date   end_date  year\n",
       "0                     3  arthaud 2022-01-03 2022-01-09  2022\n",
       "1                    14  arthaud 2022-01-10 2022-01-16  2022\n",
       "2                    22  arthaud 2022-01-17 2022-01-23  2022\n",
       "3                    28  arthaud 2022-01-24 2022-01-30  2022\n",
       "4                    29  arthaud 2022-01-31 2022-02-06  2022"
      ]
     },
     "execution_count": 20,
     "metadata": {},
     "output_type": "execute_result"
    }
   ],
   "source": [
    "df_factiva_clean.head()"
   ]
  },
  {
   "cell_type": "markdown",
   "id": "01412b10",
   "metadata": {},
   "source": [
    "### VIZ"
   ]
  },
  {
   "cell_type": "code",
   "execution_count": 22,
   "id": "b9030e20",
   "metadata": {},
   "outputs": [
    {
     "ename": "ValueError",
     "evalue": "Could not interpret value `day` for parameter `x`",
     "output_type": "error",
     "traceback": [
      "\u001b[1;31m---------------------------------------------------------------------------\u001b[0m",
      "\u001b[1;31mValueError\u001b[0m                                Traceback (most recent call last)",
      "\u001b[1;32m~\\AppData\\Local\\Temp/ipykernel_22100/2229834126.py\u001b[0m in \u001b[0;36m<module>\u001b[1;34m\u001b[0m\n\u001b[0;32m      1\u001b[0m \u001b[0mplt\u001b[0m\u001b[1;33m.\u001b[0m\u001b[0mfigure\u001b[0m\u001b[1;33m(\u001b[0m\u001b[0mfigsize\u001b[0m \u001b[1;33m=\u001b[0m \u001b[1;33m(\u001b[0m\u001b[1;36m15\u001b[0m\u001b[1;33m,\u001b[0m\u001b[1;36m5\u001b[0m\u001b[1;33m)\u001b[0m\u001b[1;33m)\u001b[0m\u001b[1;33m\u001b[0m\u001b[1;33m\u001b[0m\u001b[0m\n\u001b[0;32m      2\u001b[0m sns.lineplot(x=\"day\", y=\"Nombres de documents\",\n\u001b[1;32m----> 3\u001b[1;33m              hue=\"candidat\",data=df_factiva_clean)\n\u001b[0m\u001b[0;32m      4\u001b[0m \u001b[1;31m#Changing the legend's location\u001b[0m\u001b[1;33m\u001b[0m\u001b[1;33m\u001b[0m\u001b[1;33m\u001b[0m\u001b[0m\n\u001b[0;32m      5\u001b[0m \u001b[0mplt\u001b[0m\u001b[1;33m.\u001b[0m\u001b[0mlegend\u001b[0m\u001b[1;33m(\u001b[0m\u001b[0mloc\u001b[0m \u001b[1;33m=\u001b[0m \u001b[1;34m'upper left'\u001b[0m\u001b[1;33m)\u001b[0m\u001b[1;33m\u001b[0m\u001b[1;33m\u001b[0m\u001b[0m\n",
      "\u001b[1;32m~\\Anaconda3\\lib\\site-packages\\seaborn\\_decorators.py\u001b[0m in \u001b[0;36minner_f\u001b[1;34m(*args, **kwargs)\u001b[0m\n\u001b[0;32m     44\u001b[0m             )\n\u001b[0;32m     45\u001b[0m         \u001b[0mkwargs\u001b[0m\u001b[1;33m.\u001b[0m\u001b[0mupdate\u001b[0m\u001b[1;33m(\u001b[0m\u001b[1;33m{\u001b[0m\u001b[0mk\u001b[0m\u001b[1;33m:\u001b[0m \u001b[0marg\u001b[0m \u001b[1;32mfor\u001b[0m \u001b[0mk\u001b[0m\u001b[1;33m,\u001b[0m \u001b[0marg\u001b[0m \u001b[1;32min\u001b[0m \u001b[0mzip\u001b[0m\u001b[1;33m(\u001b[0m\u001b[0msig\u001b[0m\u001b[1;33m.\u001b[0m\u001b[0mparameters\u001b[0m\u001b[1;33m,\u001b[0m \u001b[0margs\u001b[0m\u001b[1;33m)\u001b[0m\u001b[1;33m}\u001b[0m\u001b[1;33m)\u001b[0m\u001b[1;33m\u001b[0m\u001b[1;33m\u001b[0m\u001b[0m\n\u001b[1;32m---> 46\u001b[1;33m         \u001b[1;32mreturn\u001b[0m \u001b[0mf\u001b[0m\u001b[1;33m(\u001b[0m\u001b[1;33m**\u001b[0m\u001b[0mkwargs\u001b[0m\u001b[1;33m)\u001b[0m\u001b[1;33m\u001b[0m\u001b[1;33m\u001b[0m\u001b[0m\n\u001b[0m\u001b[0;32m     47\u001b[0m     \u001b[1;32mreturn\u001b[0m \u001b[0minner_f\u001b[0m\u001b[1;33m\u001b[0m\u001b[1;33m\u001b[0m\u001b[0m\n\u001b[0;32m     48\u001b[0m \u001b[1;33m\u001b[0m\u001b[0m\n",
      "\u001b[1;32m~\\Anaconda3\\lib\\site-packages\\seaborn\\relational.py\u001b[0m in \u001b[0;36mlineplot\u001b[1;34m(x, y, hue, size, style, data, palette, hue_order, hue_norm, sizes, size_order, size_norm, dashes, markers, style_order, units, estimator, ci, n_boot, seed, sort, err_style, err_kws, legend, ax, **kwargs)\u001b[0m\n\u001b[0;32m    693\u001b[0m         \u001b[0mdata\u001b[0m\u001b[1;33m=\u001b[0m\u001b[0mdata\u001b[0m\u001b[1;33m,\u001b[0m \u001b[0mvariables\u001b[0m\u001b[1;33m=\u001b[0m\u001b[0mvariables\u001b[0m\u001b[1;33m,\u001b[0m\u001b[1;33m\u001b[0m\u001b[1;33m\u001b[0m\u001b[0m\n\u001b[0;32m    694\u001b[0m         \u001b[0mestimator\u001b[0m\u001b[1;33m=\u001b[0m\u001b[0mestimator\u001b[0m\u001b[1;33m,\u001b[0m \u001b[0mci\u001b[0m\u001b[1;33m=\u001b[0m\u001b[0mci\u001b[0m\u001b[1;33m,\u001b[0m \u001b[0mn_boot\u001b[0m\u001b[1;33m=\u001b[0m\u001b[0mn_boot\u001b[0m\u001b[1;33m,\u001b[0m \u001b[0mseed\u001b[0m\u001b[1;33m=\u001b[0m\u001b[0mseed\u001b[0m\u001b[1;33m,\u001b[0m\u001b[1;33m\u001b[0m\u001b[1;33m\u001b[0m\u001b[0m\n\u001b[1;32m--> 695\u001b[1;33m         \u001b[0msort\u001b[0m\u001b[1;33m=\u001b[0m\u001b[0msort\u001b[0m\u001b[1;33m,\u001b[0m \u001b[0merr_style\u001b[0m\u001b[1;33m=\u001b[0m\u001b[0merr_style\u001b[0m\u001b[1;33m,\u001b[0m \u001b[0merr_kws\u001b[0m\u001b[1;33m=\u001b[0m\u001b[0merr_kws\u001b[0m\u001b[1;33m,\u001b[0m \u001b[0mlegend\u001b[0m\u001b[1;33m=\u001b[0m\u001b[0mlegend\u001b[0m\u001b[1;33m,\u001b[0m\u001b[1;33m\u001b[0m\u001b[1;33m\u001b[0m\u001b[0m\n\u001b[0m\u001b[0;32m    696\u001b[0m     )\n\u001b[0;32m    697\u001b[0m \u001b[1;33m\u001b[0m\u001b[0m\n",
      "\u001b[1;32m~\\Anaconda3\\lib\\site-packages\\seaborn\\relational.py\u001b[0m in \u001b[0;36m__init__\u001b[1;34m(self, data, variables, estimator, ci, n_boot, seed, sort, err_style, err_kws, legend)\u001b[0m\n\u001b[0;32m    365\u001b[0m         )\n\u001b[0;32m    366\u001b[0m \u001b[1;33m\u001b[0m\u001b[0m\n\u001b[1;32m--> 367\u001b[1;33m         \u001b[0msuper\u001b[0m\u001b[1;33m(\u001b[0m\u001b[1;33m)\u001b[0m\u001b[1;33m.\u001b[0m\u001b[0m__init__\u001b[0m\u001b[1;33m(\u001b[0m\u001b[0mdata\u001b[0m\u001b[1;33m=\u001b[0m\u001b[0mdata\u001b[0m\u001b[1;33m,\u001b[0m \u001b[0mvariables\u001b[0m\u001b[1;33m=\u001b[0m\u001b[0mvariables\u001b[0m\u001b[1;33m)\u001b[0m\u001b[1;33m\u001b[0m\u001b[1;33m\u001b[0m\u001b[0m\n\u001b[0m\u001b[0;32m    368\u001b[0m \u001b[1;33m\u001b[0m\u001b[0m\n\u001b[0;32m    369\u001b[0m         \u001b[0mself\u001b[0m\u001b[1;33m.\u001b[0m\u001b[0mestimator\u001b[0m \u001b[1;33m=\u001b[0m \u001b[0mestimator\u001b[0m\u001b[1;33m\u001b[0m\u001b[1;33m\u001b[0m\u001b[0m\n",
      "\u001b[1;32m~\\Anaconda3\\lib\\site-packages\\seaborn\\_core.py\u001b[0m in \u001b[0;36m__init__\u001b[1;34m(self, data, variables)\u001b[0m\n\u001b[0;32m    603\u001b[0m     \u001b[1;32mdef\u001b[0m \u001b[0m__init__\u001b[0m\u001b[1;33m(\u001b[0m\u001b[0mself\u001b[0m\u001b[1;33m,\u001b[0m \u001b[0mdata\u001b[0m\u001b[1;33m=\u001b[0m\u001b[1;32mNone\u001b[0m\u001b[1;33m,\u001b[0m \u001b[0mvariables\u001b[0m\u001b[1;33m=\u001b[0m\u001b[1;33m{\u001b[0m\u001b[1;33m}\u001b[0m\u001b[1;33m)\u001b[0m\u001b[1;33m:\u001b[0m\u001b[1;33m\u001b[0m\u001b[1;33m\u001b[0m\u001b[0m\n\u001b[0;32m    604\u001b[0m \u001b[1;33m\u001b[0m\u001b[0m\n\u001b[1;32m--> 605\u001b[1;33m         \u001b[0mself\u001b[0m\u001b[1;33m.\u001b[0m\u001b[0massign_variables\u001b[0m\u001b[1;33m(\u001b[0m\u001b[0mdata\u001b[0m\u001b[1;33m,\u001b[0m \u001b[0mvariables\u001b[0m\u001b[1;33m)\u001b[0m\u001b[1;33m\u001b[0m\u001b[1;33m\u001b[0m\u001b[0m\n\u001b[0m\u001b[0;32m    606\u001b[0m \u001b[1;33m\u001b[0m\u001b[0m\n\u001b[0;32m    607\u001b[0m         \u001b[1;32mfor\u001b[0m \u001b[0mvar\u001b[0m\u001b[1;33m,\u001b[0m \u001b[0mcls\u001b[0m \u001b[1;32min\u001b[0m \u001b[0mself\u001b[0m\u001b[1;33m.\u001b[0m\u001b[0m_semantic_mappings\u001b[0m\u001b[1;33m.\u001b[0m\u001b[0mitems\u001b[0m\u001b[1;33m(\u001b[0m\u001b[1;33m)\u001b[0m\u001b[1;33m:\u001b[0m\u001b[1;33m\u001b[0m\u001b[1;33m\u001b[0m\u001b[0m\n",
      "\u001b[1;32m~\\Anaconda3\\lib\\site-packages\\seaborn\\_core.py\u001b[0m in \u001b[0;36massign_variables\u001b[1;34m(self, data, variables)\u001b[0m\n\u001b[0;32m    667\u001b[0m             \u001b[0mself\u001b[0m\u001b[1;33m.\u001b[0m\u001b[0minput_format\u001b[0m \u001b[1;33m=\u001b[0m \u001b[1;34m\"long\"\u001b[0m\u001b[1;33m\u001b[0m\u001b[1;33m\u001b[0m\u001b[0m\n\u001b[0;32m    668\u001b[0m             plot_data, variables = self._assign_variables_longform(\n\u001b[1;32m--> 669\u001b[1;33m                 \u001b[0mdata\u001b[0m\u001b[1;33m,\u001b[0m \u001b[1;33m**\u001b[0m\u001b[0mvariables\u001b[0m\u001b[1;33m,\u001b[0m\u001b[1;33m\u001b[0m\u001b[1;33m\u001b[0m\u001b[0m\n\u001b[0m\u001b[0;32m    670\u001b[0m             )\n\u001b[0;32m    671\u001b[0m \u001b[1;33m\u001b[0m\u001b[0m\n",
      "\u001b[1;32m~\\Anaconda3\\lib\\site-packages\\seaborn\\_core.py\u001b[0m in \u001b[0;36m_assign_variables_longform\u001b[1;34m(self, data, **kwargs)\u001b[0m\n\u001b[0;32m    901\u001b[0m \u001b[1;33m\u001b[0m\u001b[0m\n\u001b[0;32m    902\u001b[0m                 \u001b[0merr\u001b[0m \u001b[1;33m=\u001b[0m \u001b[1;34mf\"Could not interpret value `{val}` for parameter `{key}`\"\u001b[0m\u001b[1;33m\u001b[0m\u001b[1;33m\u001b[0m\u001b[0m\n\u001b[1;32m--> 903\u001b[1;33m                 \u001b[1;32mraise\u001b[0m \u001b[0mValueError\u001b[0m\u001b[1;33m(\u001b[0m\u001b[0merr\u001b[0m\u001b[1;33m)\u001b[0m\u001b[1;33m\u001b[0m\u001b[1;33m\u001b[0m\u001b[0m\n\u001b[0m\u001b[0;32m    904\u001b[0m \u001b[1;33m\u001b[0m\u001b[0m\n\u001b[0;32m    905\u001b[0m             \u001b[1;32melse\u001b[0m\u001b[1;33m:\u001b[0m\u001b[1;33m\u001b[0m\u001b[1;33m\u001b[0m\u001b[0m\n",
      "\u001b[1;31mValueError\u001b[0m: Could not interpret value `day` for parameter `x`"
     ]
    },
    {
     "data": {
      "text/plain": [
       "<Figure size 1080x360 with 0 Axes>"
      ]
     },
     "metadata": {},
     "output_type": "display_data"
    }
   ],
   "source": [
    "plt.figure(figsize = (15,5))\n",
    "sns.lineplot(x=\"day\", y=\"Nombres de documents\",\n",
    "             hue=\"candidat\",data=df_factiva_clean)\n",
    "#Changing the legend's location \n",
    "plt.legend(loc = 'upper left')\n",
    "#Title:\n",
    "plt.title('Factiva - number of documents')\n",
    "plt.show()"
   ]
  },
  {
   "cell_type": "markdown",
   "id": "3880580f",
   "metadata": {},
   "source": [
    "### Saving Factiva"
   ]
  },
  {
   "cell_type": "code",
   "execution_count": 23,
   "id": "2534e66b",
   "metadata": {},
   "outputs": [],
   "source": [
    "df_factiva_clean.to_csv('data/clean/df_factiva.csv', index=False)"
   ]
  },
  {
   "cell_type": "markdown",
   "id": "f76f53f0",
   "metadata": {},
   "source": [
    "## ARCOM / CSA"
   ]
  },
  {
   "cell_type": "markdown",
   "id": "66a88dd0",
   "metadata": {},
   "source": [
    "They can be found on that page: \n",
    "https://www.csa.fr/Proteger/Garantie-des-droits-et-libertes/Proteger-le-pluralisme-politique/La-presidentielle-2022\n",
    "\n",
    "Updated every two weeks, so we can infer the time for every two weeks period, for each considered candidate. "
   ]
  },
  {
   "cell_type": "code",
   "execution_count": 24,
   "id": "eceb11a5",
   "metadata": {},
   "outputs": [],
   "source": [
    "#The column names are not defined: \n",
    "names_arcom_cols = ['network', 'cat_network', 'candidat', 'cat_speaker', 'time', 'percentage']\n",
    "\n",
    "\n",
    "#Initializing a pandas DF:\n",
    "df_arcom_aggregated = pd.DataFrame()\n",
    "\n",
    "\n",
    "\n",
    "\n",
    "#Listing the complete set of data in the folder: \n",
    "rel_path= 'data/arcom/renamed'\n",
    "files_arcom = [f for f in listdir(rel_path) if isfile(join(rel_path, f))]\n",
    "#Loop over those files and retrieve the data:\n",
    "for f_name in files_arcom:\n",
    "    splitted = f_name.split('_')\n",
    "    day = int(splitted[1])\n",
    "    month = int(splitted[2].split('.')[0])    \n",
    "    date_temp= datetime.date(2022, month, day)\n",
    "    #n_week = date_temp.isocalendar()[1]\n",
    "    df_temp = pd.read_csv(rel_path+'/'+f_name, \n",
    "                sep=';', names=names_arcom_cols,encoding='latin-1')\n",
    "    df_temp['date_end']=date_temp\n",
    "    #Concat the df_temp to the whole DF:\n",
    "    df_arcom_aggregated = pd.concat([df_arcom_aggregated, df_temp])"
   ]
  },
  {
   "cell_type": "code",
   "execution_count": 25,
   "id": "cb30972f",
   "metadata": {},
   "outputs": [
    {
     "data": {
      "text/html": [
       "<div>\n",
       "<style scoped>\n",
       "    .dataframe tbody tr th:only-of-type {\n",
       "        vertical-align: middle;\n",
       "    }\n",
       "\n",
       "    .dataframe tbody tr th {\n",
       "        vertical-align: top;\n",
       "    }\n",
       "\n",
       "    .dataframe thead th {\n",
       "        text-align: right;\n",
       "    }\n",
       "</style>\n",
       "<table border=\"1\" class=\"dataframe\">\n",
       "  <thead>\n",
       "    <tr style=\"text-align: right;\">\n",
       "      <th></th>\n",
       "      <th>network</th>\n",
       "      <th>cat_network</th>\n",
       "      <th>candidat</th>\n",
       "      <th>cat_speaker</th>\n",
       "      <th>time</th>\n",
       "      <th>percentage</th>\n",
       "      <th>date_end</th>\n",
       "    </tr>\n",
       "  </thead>\n",
       "  <tbody>\n",
       "    <tr>\n",
       "      <th>1499</th>\n",
       "      <td>FranceInfo</td>\n",
       "      <td>00_NATIONAL</td>\n",
       "      <td>POUTOU PHILIPPE</td>\n",
       "      <td>Total Temps d'antenne</td>\n",
       "      <td>00:24:45</td>\n",
       "      <td>1.04</td>\n",
       "      <td>2022-01-30</td>\n",
       "    </tr>\n",
       "    <tr>\n",
       "      <th>444</th>\n",
       "      <td>TMC</td>\n",
       "      <td>00_NATIONAL</td>\n",
       "      <td>PHILIPPOT FLORIAN</td>\n",
       "      <td>Total Temps d'antenne</td>\n",
       "      <td>00:02:24</td>\n",
       "      <td>2.00</td>\n",
       "      <td>2022-01-16</td>\n",
       "    </tr>\n",
       "    <tr>\n",
       "      <th>2490</th>\n",
       "      <td>SudRadio</td>\n",
       "      <td>00_NATIONAL</td>\n",
       "      <td>JADOT YANNICK</td>\n",
       "      <td>Candidat</td>\n",
       "      <td>00:10:06</td>\n",
       "      <td>5.58</td>\n",
       "      <td>2022-02-27</td>\n",
       "    </tr>\n",
       "    <tr>\n",
       "      <th>1673</th>\n",
       "      <td>RFI</td>\n",
       "      <td>00_NATIONAL</td>\n",
       "      <td>MACRON EMMANUEL</td>\n",
       "      <td>Antenne</td>\n",
       "      <td>00:19:25</td>\n",
       "      <td>15.60</td>\n",
       "      <td>2022-02-27</td>\n",
       "    </tr>\n",
       "    <tr>\n",
       "      <th>1146</th>\n",
       "      <td>FranceinfoTV</td>\n",
       "      <td>00_NATIONAL</td>\n",
       "      <td>ROCCA MARTIN</td>\n",
       "      <td>Soutiens</td>\n",
       "      <td>00:00:00</td>\n",
       "      <td>-</td>\n",
       "      <td>2022-01-30</td>\n",
       "    </tr>\n",
       "    <tr>\n",
       "      <th>1970</th>\n",
       "      <td>Europe1</td>\n",
       "      <td>00_NATIONAL</td>\n",
       "      <td>JADOT YANNICK</td>\n",
       "      <td>Candidat</td>\n",
       "      <td>00:05:03</td>\n",
       "      <td>0.99</td>\n",
       "      <td>2022-01-30</td>\n",
       "    </tr>\n",
       "    <tr>\n",
       "      <th>979</th>\n",
       "      <td>RT France</td>\n",
       "      <td>00_NATIONAL</td>\n",
       "      <td>MELENCHON JEAN LUC</td>\n",
       "      <td>Total Temps d'antenne</td>\n",
       "      <td>03:02:47</td>\n",
       "      <td>9.61</td>\n",
       "      <td>2022-02-27</td>\n",
       "    </tr>\n",
       "    <tr>\n",
       "      <th>182</th>\n",
       "      <td>France3</td>\n",
       "      <td>00_NATIONAL</td>\n",
       "      <td>ASSELINEAU FRANCOIS</td>\n",
       "      <td>Total Temps de parole</td>\n",
       "      <td>00:00:40</td>\n",
       "      <td>0.60</td>\n",
       "      <td>2022-01-30</td>\n",
       "    </tr>\n",
       "    <tr>\n",
       "      <th>1441</th>\n",
       "      <td>TV5Monde</td>\n",
       "      <td>00_NATIONAL</td>\n",
       "      <td>PECRESSE VALERIE</td>\n",
       "      <td>Soutiens</td>\n",
       "      <td>00:01:12</td>\n",
       "      <td>1.38</td>\n",
       "      <td>2022-02-27</td>\n",
       "    </tr>\n",
       "    <tr>\n",
       "      <th>976</th>\n",
       "      <td>RT France</td>\n",
       "      <td>00_NATIONAL</td>\n",
       "      <td>KUZMANOVIC GEORGES</td>\n",
       "      <td>Soutiens</td>\n",
       "      <td>00:00:00</td>\n",
       "      <td>-</td>\n",
       "      <td>2022-03-07</td>\n",
       "    </tr>\n",
       "  </tbody>\n",
       "</table>\n",
       "</div>"
      ],
      "text/plain": [
       "           network  cat_network             candidat            cat_speaker  \\\n",
       "1499    FranceInfo  00_NATIONAL      POUTOU PHILIPPE  Total Temps d'antenne   \n",
       "444            TMC  00_NATIONAL    PHILIPPOT FLORIAN  Total Temps d'antenne   \n",
       "2490      SudRadio  00_NATIONAL        JADOT YANNICK               Candidat   \n",
       "1673           RFI  00_NATIONAL      MACRON EMMANUEL                Antenne   \n",
       "1146  FranceinfoTV  00_NATIONAL         ROCCA MARTIN               Soutiens   \n",
       "1970       Europe1  00_NATIONAL        JADOT YANNICK               Candidat   \n",
       "979      RT France  00_NATIONAL   MELENCHON JEAN LUC  Total Temps d'antenne   \n",
       "182        France3  00_NATIONAL  ASSELINEAU FRANCOIS  Total Temps de parole   \n",
       "1441      TV5Monde  00_NATIONAL     PECRESSE VALERIE               Soutiens   \n",
       "976      RT France  00_NATIONAL   KUZMANOVIC GEORGES               Soutiens   \n",
       "\n",
       "          time percentage    date_end  \n",
       "1499  00:24:45       1.04  2022-01-30  \n",
       "444   00:02:24       2.00  2022-01-16  \n",
       "2490  00:10:06       5.58  2022-02-27  \n",
       "1673  00:19:25      15.60  2022-02-27  \n",
       "1146  00:00:00          -  2022-01-30  \n",
       "1970  00:05:03       0.99  2022-01-30  \n",
       "979   03:02:47       9.61  2022-02-27  \n",
       "182   00:00:40       0.60  2022-01-30  \n",
       "1441  00:01:12       1.38  2022-02-27  \n",
       "976   00:00:00          -  2022-03-07  "
      ]
     },
     "execution_count": 25,
     "metadata": {},
     "output_type": "execute_result"
    }
   ],
   "source": [
    "df_arcom_aggregated.sample(10)"
   ]
  },
  {
   "cell_type": "markdown",
   "id": "e181d64d",
   "metadata": {},
   "source": [
    "### Clean & lookup"
   ]
  },
  {
   "cell_type": "markdown",
   "id": "17afea55",
   "metadata": {},
   "source": [
    "#### Selecting the candidates:"
   ]
  },
  {
   "cell_type": "code",
   "execution_count": 26,
   "id": "6e802fa4",
   "metadata": {},
   "outputs": [
    {
     "data": {
      "text/plain": [
       "array(['ARTHAUD NATHALIE', 'ASSELINEAU FRANCOIS', 'DUPONT AIGNAN NICOLAS',\n",
       "       'HIDALGO ANNE', 'JADOT YANNICK', 'KAZIB ANASSE', 'KOENIG GASPARD',\n",
       "       'LASSALLE JEAN', 'LE PEN MARINE', 'MACRON EMMANUEL',\n",
       "       'MELENCHON JEAN LUC', 'MONTEBOURG ARNAUD', 'PECRESSE VALERIE',\n",
       "       'PHILIPPOT FLORIAN', 'POUTOU PHILIPPE', 'ROUSSEL FABIEN',\n",
       "       'TAUBIRA CHRISTIANE', 'THOUY HELENE', 'ZEMMOUR ERIC',\n",
       "       'Total candidats', 'LARROUTUROU PIERRE', 'CHICHE ARNAUD',\n",
       "       'DAN ANNE', 'EGGER CLARA', 'FURLAN PHILIPPE',\n",
       "       'GOVERNATORI JEAN MARC', 'GRIMAL FABRICE', 'KUZMANOVIC GEORGES',\n",
       "       'LANGLOIS ALEXANDRE', 'RIVOAL STEPHANIE', 'ROCCA MARTIN',\n",
       "       'WAECHTER ANTOINE', 'MARCHANDISE CHARLOTTE', 'CAU MARIE',\n",
       "       'AGUEB PORTERIE ANNA', 'DANIEL ISABELLE', 'LAM YAYA',\n",
       "       'PIGNOL GERARD', 'ASSELINEAU FRANÇOIS'], dtype=object)"
      ]
     },
     "execution_count": 26,
     "metadata": {},
     "output_type": "execute_result"
    }
   ],
   "source": [
    "df_arcom_aggregated['candidat'].unique()"
   ]
  },
  {
   "cell_type": "code",
   "execution_count": 27,
   "id": "c53af9c3",
   "metadata": {},
   "outputs": [],
   "source": [
    "selected_candidates_arcom = ['ARTHAUD NATHALIE','DUPONT AIGNAN NICOLAS',\n",
    "       'HIDALGO ANNE', 'JADOT YANNICK','LASSALLE JEAN', 'LE PEN MARINE', 'MACRON EMMANUEL',\n",
    "       'MELENCHON JEAN LUC', 'PECRESSE VALERIE','POUTOU PHILIPPE', 'ROUSSEL FABIEN','ZEMMOUR ERIC']"
   ]
  },
  {
   "cell_type": "markdown",
   "id": "b65907fc",
   "metadata": {},
   "source": [
    "#### types"
   ]
  },
  {
   "cell_type": "code",
   "execution_count": 28,
   "id": "314c9716",
   "metadata": {},
   "outputs": [
    {
     "data": {
      "text/plain": [
       "network        object\n",
       "cat_network    object\n",
       "candidat       object\n",
       "cat_speaker    object\n",
       "time           object\n",
       "percentage     object\n",
       "date_end       object\n",
       "dtype: object"
      ]
     },
     "execution_count": 28,
     "metadata": {},
     "output_type": "execute_result"
    }
   ],
   "source": [
    "df_arcom_aggregated.dtypes"
   ]
  },
  {
   "cell_type": "code",
   "execution_count": 29,
   "id": "320db5cd",
   "metadata": {},
   "outputs": [],
   "source": [
    "#dt.datetime.strptime('02:00:00', '%H:%M:%S')\n",
    "def convert_times_arcom(s):\n",
    "    \"\"\"\n",
    "    @Inputs: s, the string representing the time '%H:%M:%S'\n",
    "    \n",
    "    \"\"\"\n",
    "    d=0\n",
    "    #splitting:\n",
    "    s_split = s.split(':')\n",
    "    \n",
    "    h=int(s_split[0])\n",
    "    m=int(s_split[1])\n",
    "    s=int(s_split[2])\n",
    "    \n",
    "    if h>=24:\n",
    "        d = h//24\n",
    "        h = h % 24\n",
    "    \n",
    "    \n",
    "    \n",
    "    \n",
    "    return datetime.timedelta(days=d , hours=h,minutes=m, seconds=s)"
   ]
  },
  {
   "cell_type": "code",
   "execution_count": 30,
   "id": "4c1ba4ab",
   "metadata": {},
   "outputs": [],
   "source": [
    "df_arcom_aggregated['clean_time'] = df_arcom_aggregated['time'].apply(lambda x: convert_times_arcom(x))"
   ]
  },
  {
   "cell_type": "code",
   "execution_count": 31,
   "id": "6c5a9e9b",
   "metadata": {},
   "outputs": [
    {
     "data": {
      "text/html": [
       "<div>\n",
       "<style scoped>\n",
       "    .dataframe tbody tr th:only-of-type {\n",
       "        vertical-align: middle;\n",
       "    }\n",
       "\n",
       "    .dataframe tbody tr th {\n",
       "        vertical-align: top;\n",
       "    }\n",
       "\n",
       "    .dataframe thead th {\n",
       "        text-align: right;\n",
       "    }\n",
       "</style>\n",
       "<table border=\"1\" class=\"dataframe\">\n",
       "  <thead>\n",
       "    <tr style=\"text-align: right;\">\n",
       "      <th></th>\n",
       "      <th>network</th>\n",
       "      <th>cat_network</th>\n",
       "      <th>candidat</th>\n",
       "      <th>cat_speaker</th>\n",
       "      <th>time</th>\n",
       "      <th>percentage</th>\n",
       "      <th>date_end</th>\n",
       "      <th>clean_time</th>\n",
       "    </tr>\n",
       "  </thead>\n",
       "  <tbody>\n",
       "    <tr>\n",
       "      <th>1170</th>\n",
       "      <td>RMC Story</td>\n",
       "      <td>00_NATIONAL</td>\n",
       "      <td>ROUSSEL FABIEN</td>\n",
       "      <td>Candidat</td>\n",
       "      <td>00:42:46</td>\n",
       "      <td>16.43</td>\n",
       "      <td>2022-03-07</td>\n",
       "      <td>0 days 00:42:46</td>\n",
       "    </tr>\n",
       "    <tr>\n",
       "      <th>1281</th>\n",
       "      <td>LCI</td>\n",
       "      <td>00_NATIONAL</td>\n",
       "      <td>ROCCA MARTIN</td>\n",
       "      <td>Soutiens</td>\n",
       "      <td>00:00:00</td>\n",
       "      <td>-</td>\n",
       "      <td>2022-03-07</td>\n",
       "      <td>0 days 00:00:00</td>\n",
       "    </tr>\n",
       "    <tr>\n",
       "      <th>216</th>\n",
       "      <td>France3</td>\n",
       "      <td>00_NATIONAL</td>\n",
       "      <td>HIDALGO ANNE</td>\n",
       "      <td>Soutiens</td>\n",
       "      <td>00:00:36</td>\n",
       "      <td>1.52</td>\n",
       "      <td>2022-03-07</td>\n",
       "      <td>0 days 00:00:36</td>\n",
       "    </tr>\n",
       "    <tr>\n",
       "      <th>1041</th>\n",
       "      <td>RT France</td>\n",
       "      <td>00_NATIONAL</td>\n",
       "      <td>Total candidats</td>\n",
       "      <td>Soutiens</td>\n",
       "      <td>09:50:05</td>\n",
       "      <td>100.00</td>\n",
       "      <td>2022-03-07</td>\n",
       "      <td>0 days 09:50:05</td>\n",
       "    </tr>\n",
       "    <tr>\n",
       "      <th>2414</th>\n",
       "      <td>Europe1</td>\n",
       "      <td>00_NATIONAL</td>\n",
       "      <td>JADOT YANNICK</td>\n",
       "      <td>Total Temps d'antenne</td>\n",
       "      <td>01:30:32</td>\n",
       "      <td>3.48</td>\n",
       "      <td>2022-02-27</td>\n",
       "      <td>0 days 01:30:32</td>\n",
       "    </tr>\n",
       "    <tr>\n",
       "      <th>2040</th>\n",
       "      <td>FranceInter</td>\n",
       "      <td>00_NATIONAL</td>\n",
       "      <td>THOUY HELENE</td>\n",
       "      <td>Candidat</td>\n",
       "      <td>00:13:15</td>\n",
       "      <td>1.71</td>\n",
       "      <td>2022-02-27</td>\n",
       "      <td>0 days 00:13:15</td>\n",
       "    </tr>\n",
       "    <tr>\n",
       "      <th>259</th>\n",
       "      <td>France3</td>\n",
       "      <td>00_NATIONAL</td>\n",
       "      <td>POUTOU PHILIPPE</td>\n",
       "      <td>Total Temps d'antenne</td>\n",
       "      <td>00:00:27</td>\n",
       "      <td>0.14</td>\n",
       "      <td>2022-02-27</td>\n",
       "      <td>0 days 00:00:27</td>\n",
       "    </tr>\n",
       "    <tr>\n",
       "      <th>420</th>\n",
       "      <td>M6</td>\n",
       "      <td>00_NATIONAL</td>\n",
       "      <td>MACRON EMMANUEL</td>\n",
       "      <td>Candidat</td>\n",
       "      <td>00:02:37</td>\n",
       "      <td>11.29</td>\n",
       "      <td>2022-02-27</td>\n",
       "      <td>0 days 00:02:37</td>\n",
       "    </tr>\n",
       "    <tr>\n",
       "      <th>353</th>\n",
       "      <td>M6</td>\n",
       "      <td>00_NATIONAL</td>\n",
       "      <td>HIDALGO ANNE</td>\n",
       "      <td>Antenne</td>\n",
       "      <td>00:01:48</td>\n",
       "      <td>4.46</td>\n",
       "      <td>2022-01-30</td>\n",
       "      <td>0 days 00:01:48</td>\n",
       "    </tr>\n",
       "    <tr>\n",
       "      <th>842</th>\n",
       "      <td>FranceinfoTV</td>\n",
       "      <td>00_NATIONAL</td>\n",
       "      <td>HIDALGO ANNE</td>\n",
       "      <td>Total Temps de parole</td>\n",
       "      <td>01:36:07</td>\n",
       "      <td>10.20</td>\n",
       "      <td>2022-01-16</td>\n",
       "      <td>0 days 01:36:07</td>\n",
       "    </tr>\n",
       "  </tbody>\n",
       "</table>\n",
       "</div>"
      ],
      "text/plain": [
       "           network  cat_network         candidat            cat_speaker  \\\n",
       "1170     RMC Story  00_NATIONAL   ROUSSEL FABIEN               Candidat   \n",
       "1281           LCI  00_NATIONAL     ROCCA MARTIN               Soutiens   \n",
       "216        France3  00_NATIONAL     HIDALGO ANNE               Soutiens   \n",
       "1041     RT France  00_NATIONAL  Total candidats               Soutiens   \n",
       "2414       Europe1  00_NATIONAL    JADOT YANNICK  Total Temps d'antenne   \n",
       "2040   FranceInter  00_NATIONAL     THOUY HELENE               Candidat   \n",
       "259        France3  00_NATIONAL  POUTOU PHILIPPE  Total Temps d'antenne   \n",
       "420             M6  00_NATIONAL  MACRON EMMANUEL               Candidat   \n",
       "353             M6  00_NATIONAL     HIDALGO ANNE                Antenne   \n",
       "842   FranceinfoTV  00_NATIONAL     HIDALGO ANNE  Total Temps de parole   \n",
       "\n",
       "          time percentage    date_end      clean_time  \n",
       "1170  00:42:46      16.43  2022-03-07 0 days 00:42:46  \n",
       "1281  00:00:00          -  2022-03-07 0 days 00:00:00  \n",
       "216   00:00:36       1.52  2022-03-07 0 days 00:00:36  \n",
       "1041  09:50:05     100.00  2022-03-07 0 days 09:50:05  \n",
       "2414  01:30:32       3.48  2022-02-27 0 days 01:30:32  \n",
       "2040  00:13:15       1.71  2022-02-27 0 days 00:13:15  \n",
       "259   00:00:27       0.14  2022-02-27 0 days 00:00:27  \n",
       "420   00:02:37      11.29  2022-02-27 0 days 00:02:37  \n",
       "353   00:01:48       4.46  2022-01-30 0 days 00:01:48  \n",
       "842   01:36:07      10.20  2022-01-16 0 days 01:36:07  "
      ]
     },
     "execution_count": 31,
     "metadata": {},
     "output_type": "execute_result"
    }
   ],
   "source": [
    "df_arcom_aggregated.sample(10)"
   ]
  },
  {
   "cell_type": "markdown",
   "id": "02407058",
   "metadata": {},
   "source": [
    "#### Cat speaker"
   ]
  },
  {
   "cell_type": "code",
   "execution_count": 32,
   "id": "51edde17",
   "metadata": {},
   "outputs": [
    {
     "data": {
      "text/plain": [
       "array(['Candidat', 'Soutiens', 'Total Temps de parole', 'Antenne',\n",
       "       \"Total Temps d'antenne\"], dtype=object)"
      ]
     },
     "execution_count": 32,
     "metadata": {},
     "output_type": "execute_result"
    }
   ],
   "source": [
    "df_arcom_aggregated['cat_speaker'].unique()"
   ]
  },
  {
   "cell_type": "markdown",
   "id": "90fa2553",
   "metadata": {},
   "source": [
    "We are only selecting `Total Temps de parole` & `Total Temps d'antenne`."
   ]
  },
  {
   "cell_type": "markdown",
   "id": "955d1a6b",
   "metadata": {},
   "source": [
    "#### Applying the transformations"
   ]
  },
  {
   "cell_type": "code",
   "execution_count": 33,
   "id": "d9fbf921",
   "metadata": {},
   "outputs": [],
   "source": [
    "#Selecting the candidates:\n",
    "df_arcom_aggregated=df_arcom_aggregated[df_arcom_aggregated['candidat'].isin(selected_candidates_arcom)]\n",
    "#Types and times:\n",
    "df_arcom_aggregated['total_time'] = df_arcom_aggregated['time'].apply(lambda x: convert_times_arcom(x))\n",
    "#cat_speaker:\n",
    "df_arcom_aggregated=df_arcom_aggregated[df_arcom_aggregated['cat_speaker'].isin(['Total Temps de parole',\n",
    "       \"Total Temps d'antenne\"])].copy()\n",
    "#Groupby to have the total time per week:\n",
    "df_arcom_clean = df_arcom_aggregated.groupby(['candidat', 'date_end'])['total_time'].sum().reset_index()"
   ]
  },
  {
   "cell_type": "code",
   "execution_count": 34,
   "id": "bcb7f382",
   "metadata": {},
   "outputs": [],
   "source": [
    "#To have the time per every two weeks:\n",
    "df_arcom_clean['time_diff'] = df_arcom_clean.groupby(['candidat'])['total_time'].diff()"
   ]
  },
  {
   "cell_type": "markdown",
   "id": "a9007963",
   "metadata": {},
   "source": [
    "**To have the real time spent on media each week:**"
   ]
  },
  {
   "cell_type": "code",
   "execution_count": 35,
   "id": "8cd25ebf",
   "metadata": {},
   "outputs": [],
   "source": [
    "#Applying a function to clean the time differences:\n",
    "\n",
    "def clean_diff_times_arcom(row):\n",
    "    if pd.isna(row['time_diff']):\n",
    "        return row['total_time']\n",
    "    else:\n",
    "        return row['time_diff']\n",
    "    \n",
    "    \n",
    "df_arcom_clean['time_diff'] = df_arcom_clean.apply(lambda x: clean_diff_times_arcom(x), axis=1)"
   ]
  },
  {
   "cell_type": "code",
   "execution_count": 36,
   "id": "333801b6",
   "metadata": {},
   "outputs": [
    {
     "data": {
      "text/html": [
       "<div>\n",
       "<style scoped>\n",
       "    .dataframe tbody tr th:only-of-type {\n",
       "        vertical-align: middle;\n",
       "    }\n",
       "\n",
       "    .dataframe tbody tr th {\n",
       "        vertical-align: top;\n",
       "    }\n",
       "\n",
       "    .dataframe thead th {\n",
       "        text-align: right;\n",
       "    }\n",
       "</style>\n",
       "<table border=\"1\" class=\"dataframe\">\n",
       "  <thead>\n",
       "    <tr style=\"text-align: right;\">\n",
       "      <th></th>\n",
       "      <th>candidat</th>\n",
       "      <th>date_end</th>\n",
       "      <th>total_time</th>\n",
       "      <th>time_diff</th>\n",
       "    </tr>\n",
       "  </thead>\n",
       "  <tbody>\n",
       "    <tr>\n",
       "      <th>55</th>\n",
       "      <td>ZEMMOUR ERIC</td>\n",
       "      <td>2022-01-16</td>\n",
       "      <td>2 days 15:20:32</td>\n",
       "      <td>2 days 15:20:32</td>\n",
       "    </tr>\n",
       "    <tr>\n",
       "      <th>9</th>\n",
       "      <td>DUPONT AIGNAN NICOLAS</td>\n",
       "      <td>2022-03-07</td>\n",
       "      <td>1 days 11:05:42</td>\n",
       "      <td>0 days 08:30:23</td>\n",
       "    </tr>\n",
       "    <tr>\n",
       "      <th>52</th>\n",
       "      <td>ROUSSEL FABIEN</td>\n",
       "      <td>2022-02-13</td>\n",
       "      <td>2 days 20:45:19</td>\n",
       "      <td>1 days 07:23:01</td>\n",
       "    </tr>\n",
       "    <tr>\n",
       "      <th>53</th>\n",
       "      <td>ROUSSEL FABIEN</td>\n",
       "      <td>2022-02-27</td>\n",
       "      <td>3 days 16:42:06</td>\n",
       "      <td>0 days 19:56:47</td>\n",
       "    </tr>\n",
       "    <tr>\n",
       "      <th>30</th>\n",
       "      <td>MACRON EMMANUEL</td>\n",
       "      <td>2022-01-16</td>\n",
       "      <td>4 days 05:34:13</td>\n",
       "      <td>4 days 05:34:13</td>\n",
       "    </tr>\n",
       "    <tr>\n",
       "      <th>56</th>\n",
       "      <td>ZEMMOUR ERIC</td>\n",
       "      <td>2022-01-30</td>\n",
       "      <td>6 days 10:12:13</td>\n",
       "      <td>3 days 18:51:41</td>\n",
       "    </tr>\n",
       "    <tr>\n",
       "      <th>17</th>\n",
       "      <td>JADOT YANNICK</td>\n",
       "      <td>2022-02-13</td>\n",
       "      <td>4 days 01:58:14</td>\n",
       "      <td>1 days 03:04:29</td>\n",
       "    </tr>\n",
       "    <tr>\n",
       "      <th>7</th>\n",
       "      <td>DUPONT AIGNAN NICOLAS</td>\n",
       "      <td>2022-02-13</td>\n",
       "      <td>0 days 20:16:50</td>\n",
       "      <td>0 days 06:43:47</td>\n",
       "    </tr>\n",
       "    <tr>\n",
       "      <th>3</th>\n",
       "      <td>ARTHAUD NATHALIE</td>\n",
       "      <td>2022-02-27</td>\n",
       "      <td>0 days 13:03:46</td>\n",
       "      <td>0 days 06:14:25</td>\n",
       "    </tr>\n",
       "    <tr>\n",
       "      <th>25</th>\n",
       "      <td>LE PEN MARINE</td>\n",
       "      <td>2022-01-16</td>\n",
       "      <td>2 days 01:07:19</td>\n",
       "      <td>2 days 01:07:19</td>\n",
       "    </tr>\n",
       "  </tbody>\n",
       "</table>\n",
       "</div>"
      ],
      "text/plain": [
       "                 candidat    date_end      total_time       time_diff\n",
       "55           ZEMMOUR ERIC  2022-01-16 2 days 15:20:32 2 days 15:20:32\n",
       "9   DUPONT AIGNAN NICOLAS  2022-03-07 1 days 11:05:42 0 days 08:30:23\n",
       "52         ROUSSEL FABIEN  2022-02-13 2 days 20:45:19 1 days 07:23:01\n",
       "53         ROUSSEL FABIEN  2022-02-27 3 days 16:42:06 0 days 19:56:47\n",
       "30        MACRON EMMANUEL  2022-01-16 4 days 05:34:13 4 days 05:34:13\n",
       "56           ZEMMOUR ERIC  2022-01-30 6 days 10:12:13 3 days 18:51:41\n",
       "17          JADOT YANNICK  2022-02-13 4 days 01:58:14 1 days 03:04:29\n",
       "7   DUPONT AIGNAN NICOLAS  2022-02-13 0 days 20:16:50 0 days 06:43:47\n",
       "3        ARTHAUD NATHALIE  2022-02-27 0 days 13:03:46 0 days 06:14:25\n",
       "25          LE PEN MARINE  2022-01-16 2 days 01:07:19 2 days 01:07:19"
      ]
     },
     "execution_count": 36,
     "metadata": {},
     "output_type": "execute_result"
    }
   ],
   "source": [
    "df_arcom_clean.sample(10)"
   ]
  },
  {
   "cell_type": "code",
   "execution_count": 37,
   "id": "2d46e8f1",
   "metadata": {},
   "outputs": [
    {
     "data": {
      "text/plain": [
       "candidat               object\n",
       "date_end               object\n",
       "total_time    timedelta64[ns]\n",
       "time_diff     timedelta64[ns]\n",
       "dtype: object"
      ]
     },
     "execution_count": 37,
     "metadata": {},
     "output_type": "execute_result"
    }
   ],
   "source": [
    "df_arcom_clean.dtypes"
   ]
  },
  {
   "cell_type": "markdown",
   "id": "97a49c61",
   "metadata": {},
   "source": [
    "### Viz"
   ]
  },
  {
   "cell_type": "code",
   "execution_count": 38,
   "id": "7c49d62c",
   "metadata": {},
   "outputs": [],
   "source": [
    "df_arcom_clean['time_diff'] = df_arcom_clean['time_diff'].apply(lambda x: x.total_seconds())\n",
    "df_arcom_clean['total_time'] = df_arcom_clean['total_time'].apply(lambda x: x.total_seconds())"
   ]
  },
  {
   "cell_type": "code",
   "execution_count": 39,
   "id": "4f3b5ebf",
   "metadata": {},
   "outputs": [
    {
     "ename": "ValueError",
     "evalue": "Could not interpret value `n_week` for parameter `x`",
     "output_type": "error",
     "traceback": [
      "\u001b[1;31m---------------------------------------------------------------------------\u001b[0m",
      "\u001b[1;31mValueError\u001b[0m                                Traceback (most recent call last)",
      "\u001b[1;32m~\\AppData\\Local\\Temp/ipykernel_22100/2568371775.py\u001b[0m in \u001b[0;36m<module>\u001b[1;34m\u001b[0m\n\u001b[0;32m      1\u001b[0m \u001b[0mplt\u001b[0m\u001b[1;33m.\u001b[0m\u001b[0mfigure\u001b[0m\u001b[1;33m(\u001b[0m\u001b[0mfigsize\u001b[0m \u001b[1;33m=\u001b[0m \u001b[1;33m(\u001b[0m\u001b[1;36m15\u001b[0m\u001b[1;33m,\u001b[0m\u001b[1;36m5\u001b[0m\u001b[1;33m)\u001b[0m\u001b[1;33m)\u001b[0m\u001b[1;33m\u001b[0m\u001b[1;33m\u001b[0m\u001b[0m\n\u001b[0;32m      2\u001b[0m sns.lineplot(x=\"n_week\", y=\"time_diff\",\n\u001b[1;32m----> 3\u001b[1;33m              hue=\"candidat\",data=df_arcom_clean)\n\u001b[0m\u001b[0;32m      4\u001b[0m \u001b[1;31m#Changing the legend's location\u001b[0m\u001b[1;33m\u001b[0m\u001b[1;33m\u001b[0m\u001b[1;33m\u001b[0m\u001b[0m\n\u001b[0;32m      5\u001b[0m \u001b[0mplt\u001b[0m\u001b[1;33m.\u001b[0m\u001b[0mlegend\u001b[0m\u001b[1;33m(\u001b[0m\u001b[0mloc\u001b[0m \u001b[1;33m=\u001b[0m \u001b[1;34m'upper left'\u001b[0m\u001b[1;33m)\u001b[0m\u001b[1;33m\u001b[0m\u001b[1;33m\u001b[0m\u001b[0m\n",
      "\u001b[1;32m~\\Anaconda3\\lib\\site-packages\\seaborn\\_decorators.py\u001b[0m in \u001b[0;36minner_f\u001b[1;34m(*args, **kwargs)\u001b[0m\n\u001b[0;32m     44\u001b[0m             )\n\u001b[0;32m     45\u001b[0m         \u001b[0mkwargs\u001b[0m\u001b[1;33m.\u001b[0m\u001b[0mupdate\u001b[0m\u001b[1;33m(\u001b[0m\u001b[1;33m{\u001b[0m\u001b[0mk\u001b[0m\u001b[1;33m:\u001b[0m \u001b[0marg\u001b[0m \u001b[1;32mfor\u001b[0m \u001b[0mk\u001b[0m\u001b[1;33m,\u001b[0m \u001b[0marg\u001b[0m \u001b[1;32min\u001b[0m \u001b[0mzip\u001b[0m\u001b[1;33m(\u001b[0m\u001b[0msig\u001b[0m\u001b[1;33m.\u001b[0m\u001b[0mparameters\u001b[0m\u001b[1;33m,\u001b[0m \u001b[0margs\u001b[0m\u001b[1;33m)\u001b[0m\u001b[1;33m}\u001b[0m\u001b[1;33m)\u001b[0m\u001b[1;33m\u001b[0m\u001b[1;33m\u001b[0m\u001b[0m\n\u001b[1;32m---> 46\u001b[1;33m         \u001b[1;32mreturn\u001b[0m \u001b[0mf\u001b[0m\u001b[1;33m(\u001b[0m\u001b[1;33m**\u001b[0m\u001b[0mkwargs\u001b[0m\u001b[1;33m)\u001b[0m\u001b[1;33m\u001b[0m\u001b[1;33m\u001b[0m\u001b[0m\n\u001b[0m\u001b[0;32m     47\u001b[0m     \u001b[1;32mreturn\u001b[0m \u001b[0minner_f\u001b[0m\u001b[1;33m\u001b[0m\u001b[1;33m\u001b[0m\u001b[0m\n\u001b[0;32m     48\u001b[0m \u001b[1;33m\u001b[0m\u001b[0m\n",
      "\u001b[1;32m~\\Anaconda3\\lib\\site-packages\\seaborn\\relational.py\u001b[0m in \u001b[0;36mlineplot\u001b[1;34m(x, y, hue, size, style, data, palette, hue_order, hue_norm, sizes, size_order, size_norm, dashes, markers, style_order, units, estimator, ci, n_boot, seed, sort, err_style, err_kws, legend, ax, **kwargs)\u001b[0m\n\u001b[0;32m    693\u001b[0m         \u001b[0mdata\u001b[0m\u001b[1;33m=\u001b[0m\u001b[0mdata\u001b[0m\u001b[1;33m,\u001b[0m \u001b[0mvariables\u001b[0m\u001b[1;33m=\u001b[0m\u001b[0mvariables\u001b[0m\u001b[1;33m,\u001b[0m\u001b[1;33m\u001b[0m\u001b[1;33m\u001b[0m\u001b[0m\n\u001b[0;32m    694\u001b[0m         \u001b[0mestimator\u001b[0m\u001b[1;33m=\u001b[0m\u001b[0mestimator\u001b[0m\u001b[1;33m,\u001b[0m \u001b[0mci\u001b[0m\u001b[1;33m=\u001b[0m\u001b[0mci\u001b[0m\u001b[1;33m,\u001b[0m \u001b[0mn_boot\u001b[0m\u001b[1;33m=\u001b[0m\u001b[0mn_boot\u001b[0m\u001b[1;33m,\u001b[0m \u001b[0mseed\u001b[0m\u001b[1;33m=\u001b[0m\u001b[0mseed\u001b[0m\u001b[1;33m,\u001b[0m\u001b[1;33m\u001b[0m\u001b[1;33m\u001b[0m\u001b[0m\n\u001b[1;32m--> 695\u001b[1;33m         \u001b[0msort\u001b[0m\u001b[1;33m=\u001b[0m\u001b[0msort\u001b[0m\u001b[1;33m,\u001b[0m \u001b[0merr_style\u001b[0m\u001b[1;33m=\u001b[0m\u001b[0merr_style\u001b[0m\u001b[1;33m,\u001b[0m \u001b[0merr_kws\u001b[0m\u001b[1;33m=\u001b[0m\u001b[0merr_kws\u001b[0m\u001b[1;33m,\u001b[0m \u001b[0mlegend\u001b[0m\u001b[1;33m=\u001b[0m\u001b[0mlegend\u001b[0m\u001b[1;33m,\u001b[0m\u001b[1;33m\u001b[0m\u001b[1;33m\u001b[0m\u001b[0m\n\u001b[0m\u001b[0;32m    696\u001b[0m     )\n\u001b[0;32m    697\u001b[0m \u001b[1;33m\u001b[0m\u001b[0m\n",
      "\u001b[1;32m~\\Anaconda3\\lib\\site-packages\\seaborn\\relational.py\u001b[0m in \u001b[0;36m__init__\u001b[1;34m(self, data, variables, estimator, ci, n_boot, seed, sort, err_style, err_kws, legend)\u001b[0m\n\u001b[0;32m    365\u001b[0m         )\n\u001b[0;32m    366\u001b[0m \u001b[1;33m\u001b[0m\u001b[0m\n\u001b[1;32m--> 367\u001b[1;33m         \u001b[0msuper\u001b[0m\u001b[1;33m(\u001b[0m\u001b[1;33m)\u001b[0m\u001b[1;33m.\u001b[0m\u001b[0m__init__\u001b[0m\u001b[1;33m(\u001b[0m\u001b[0mdata\u001b[0m\u001b[1;33m=\u001b[0m\u001b[0mdata\u001b[0m\u001b[1;33m,\u001b[0m \u001b[0mvariables\u001b[0m\u001b[1;33m=\u001b[0m\u001b[0mvariables\u001b[0m\u001b[1;33m)\u001b[0m\u001b[1;33m\u001b[0m\u001b[1;33m\u001b[0m\u001b[0m\n\u001b[0m\u001b[0;32m    368\u001b[0m \u001b[1;33m\u001b[0m\u001b[0m\n\u001b[0;32m    369\u001b[0m         \u001b[0mself\u001b[0m\u001b[1;33m.\u001b[0m\u001b[0mestimator\u001b[0m \u001b[1;33m=\u001b[0m \u001b[0mestimator\u001b[0m\u001b[1;33m\u001b[0m\u001b[1;33m\u001b[0m\u001b[0m\n",
      "\u001b[1;32m~\\Anaconda3\\lib\\site-packages\\seaborn\\_core.py\u001b[0m in \u001b[0;36m__init__\u001b[1;34m(self, data, variables)\u001b[0m\n\u001b[0;32m    603\u001b[0m     \u001b[1;32mdef\u001b[0m \u001b[0m__init__\u001b[0m\u001b[1;33m(\u001b[0m\u001b[0mself\u001b[0m\u001b[1;33m,\u001b[0m \u001b[0mdata\u001b[0m\u001b[1;33m=\u001b[0m\u001b[1;32mNone\u001b[0m\u001b[1;33m,\u001b[0m \u001b[0mvariables\u001b[0m\u001b[1;33m=\u001b[0m\u001b[1;33m{\u001b[0m\u001b[1;33m}\u001b[0m\u001b[1;33m)\u001b[0m\u001b[1;33m:\u001b[0m\u001b[1;33m\u001b[0m\u001b[1;33m\u001b[0m\u001b[0m\n\u001b[0;32m    604\u001b[0m \u001b[1;33m\u001b[0m\u001b[0m\n\u001b[1;32m--> 605\u001b[1;33m         \u001b[0mself\u001b[0m\u001b[1;33m.\u001b[0m\u001b[0massign_variables\u001b[0m\u001b[1;33m(\u001b[0m\u001b[0mdata\u001b[0m\u001b[1;33m,\u001b[0m \u001b[0mvariables\u001b[0m\u001b[1;33m)\u001b[0m\u001b[1;33m\u001b[0m\u001b[1;33m\u001b[0m\u001b[0m\n\u001b[0m\u001b[0;32m    606\u001b[0m \u001b[1;33m\u001b[0m\u001b[0m\n\u001b[0;32m    607\u001b[0m         \u001b[1;32mfor\u001b[0m \u001b[0mvar\u001b[0m\u001b[1;33m,\u001b[0m \u001b[0mcls\u001b[0m \u001b[1;32min\u001b[0m \u001b[0mself\u001b[0m\u001b[1;33m.\u001b[0m\u001b[0m_semantic_mappings\u001b[0m\u001b[1;33m.\u001b[0m\u001b[0mitems\u001b[0m\u001b[1;33m(\u001b[0m\u001b[1;33m)\u001b[0m\u001b[1;33m:\u001b[0m\u001b[1;33m\u001b[0m\u001b[1;33m\u001b[0m\u001b[0m\n",
      "\u001b[1;32m~\\Anaconda3\\lib\\site-packages\\seaborn\\_core.py\u001b[0m in \u001b[0;36massign_variables\u001b[1;34m(self, data, variables)\u001b[0m\n\u001b[0;32m    667\u001b[0m             \u001b[0mself\u001b[0m\u001b[1;33m.\u001b[0m\u001b[0minput_format\u001b[0m \u001b[1;33m=\u001b[0m \u001b[1;34m\"long\"\u001b[0m\u001b[1;33m\u001b[0m\u001b[1;33m\u001b[0m\u001b[0m\n\u001b[0;32m    668\u001b[0m             plot_data, variables = self._assign_variables_longform(\n\u001b[1;32m--> 669\u001b[1;33m                 \u001b[0mdata\u001b[0m\u001b[1;33m,\u001b[0m \u001b[1;33m**\u001b[0m\u001b[0mvariables\u001b[0m\u001b[1;33m,\u001b[0m\u001b[1;33m\u001b[0m\u001b[1;33m\u001b[0m\u001b[0m\n\u001b[0m\u001b[0;32m    670\u001b[0m             )\n\u001b[0;32m    671\u001b[0m \u001b[1;33m\u001b[0m\u001b[0m\n",
      "\u001b[1;32m~\\Anaconda3\\lib\\site-packages\\seaborn\\_core.py\u001b[0m in \u001b[0;36m_assign_variables_longform\u001b[1;34m(self, data, **kwargs)\u001b[0m\n\u001b[0;32m    901\u001b[0m \u001b[1;33m\u001b[0m\u001b[0m\n\u001b[0;32m    902\u001b[0m                 \u001b[0merr\u001b[0m \u001b[1;33m=\u001b[0m \u001b[1;34mf\"Could not interpret value `{val}` for parameter `{key}`\"\u001b[0m\u001b[1;33m\u001b[0m\u001b[1;33m\u001b[0m\u001b[0m\n\u001b[1;32m--> 903\u001b[1;33m                 \u001b[1;32mraise\u001b[0m \u001b[0mValueError\u001b[0m\u001b[1;33m(\u001b[0m\u001b[0merr\u001b[0m\u001b[1;33m)\u001b[0m\u001b[1;33m\u001b[0m\u001b[1;33m\u001b[0m\u001b[0m\n\u001b[0m\u001b[0;32m    904\u001b[0m \u001b[1;33m\u001b[0m\u001b[0m\n\u001b[0;32m    905\u001b[0m             \u001b[1;32melse\u001b[0m\u001b[1;33m:\u001b[0m\u001b[1;33m\u001b[0m\u001b[1;33m\u001b[0m\u001b[0m\n",
      "\u001b[1;31mValueError\u001b[0m: Could not interpret value `n_week` for parameter `x`"
     ]
    },
    {
     "data": {
      "text/plain": [
       "<Figure size 1080x360 with 0 Axes>"
      ]
     },
     "metadata": {},
     "output_type": "display_data"
    }
   ],
   "source": [
    "plt.figure(figsize = (15,5))\n",
    "sns.lineplot(x=\"n_week\", y=\"time_diff\",\n",
    "             hue=\"candidat\",data=df_arcom_clean)\n",
    "#Changing the legend's location \n",
    "plt.legend(loc = 'upper left')\n",
    "#Title:\n",
    "plt.title('Arcom - time per week')\n",
    "plt.show()"
   ]
  },
  {
   "cell_type": "code",
   "execution_count": 40,
   "id": "8cca64d8",
   "metadata": {},
   "outputs": [
    {
     "ename": "ValueError",
     "evalue": "Could not interpret value `n_week` for parameter `x`",
     "output_type": "error",
     "traceback": [
      "\u001b[1;31m---------------------------------------------------------------------------\u001b[0m",
      "\u001b[1;31mValueError\u001b[0m                                Traceback (most recent call last)",
      "\u001b[1;32m~\\AppData\\Local\\Temp/ipykernel_22100/642125616.py\u001b[0m in \u001b[0;36m<module>\u001b[1;34m\u001b[0m\n\u001b[0;32m      1\u001b[0m \u001b[0mplt\u001b[0m\u001b[1;33m.\u001b[0m\u001b[0mfigure\u001b[0m\u001b[1;33m(\u001b[0m\u001b[0mfigsize\u001b[0m \u001b[1;33m=\u001b[0m \u001b[1;33m(\u001b[0m\u001b[1;36m15\u001b[0m\u001b[1;33m,\u001b[0m\u001b[1;36m5\u001b[0m\u001b[1;33m)\u001b[0m\u001b[1;33m)\u001b[0m\u001b[1;33m\u001b[0m\u001b[1;33m\u001b[0m\u001b[0m\n\u001b[0;32m      2\u001b[0m sns.lineplot(x=\"n_week\", y=\"total_time\",\n\u001b[1;32m----> 3\u001b[1;33m              hue=\"candidat\",data=df_arcom_clean)\n\u001b[0m\u001b[0;32m      4\u001b[0m \u001b[1;31m#Changing the legend's location\u001b[0m\u001b[1;33m\u001b[0m\u001b[1;33m\u001b[0m\u001b[1;33m\u001b[0m\u001b[0m\n\u001b[0;32m      5\u001b[0m \u001b[0mplt\u001b[0m\u001b[1;33m.\u001b[0m\u001b[0mlegend\u001b[0m\u001b[1;33m(\u001b[0m\u001b[0mloc\u001b[0m \u001b[1;33m=\u001b[0m \u001b[1;34m'upper left'\u001b[0m\u001b[1;33m)\u001b[0m\u001b[1;33m\u001b[0m\u001b[1;33m\u001b[0m\u001b[0m\n",
      "\u001b[1;32m~\\Anaconda3\\lib\\site-packages\\seaborn\\_decorators.py\u001b[0m in \u001b[0;36minner_f\u001b[1;34m(*args, **kwargs)\u001b[0m\n\u001b[0;32m     44\u001b[0m             )\n\u001b[0;32m     45\u001b[0m         \u001b[0mkwargs\u001b[0m\u001b[1;33m.\u001b[0m\u001b[0mupdate\u001b[0m\u001b[1;33m(\u001b[0m\u001b[1;33m{\u001b[0m\u001b[0mk\u001b[0m\u001b[1;33m:\u001b[0m \u001b[0marg\u001b[0m \u001b[1;32mfor\u001b[0m \u001b[0mk\u001b[0m\u001b[1;33m,\u001b[0m \u001b[0marg\u001b[0m \u001b[1;32min\u001b[0m \u001b[0mzip\u001b[0m\u001b[1;33m(\u001b[0m\u001b[0msig\u001b[0m\u001b[1;33m.\u001b[0m\u001b[0mparameters\u001b[0m\u001b[1;33m,\u001b[0m \u001b[0margs\u001b[0m\u001b[1;33m)\u001b[0m\u001b[1;33m}\u001b[0m\u001b[1;33m)\u001b[0m\u001b[1;33m\u001b[0m\u001b[1;33m\u001b[0m\u001b[0m\n\u001b[1;32m---> 46\u001b[1;33m         \u001b[1;32mreturn\u001b[0m \u001b[0mf\u001b[0m\u001b[1;33m(\u001b[0m\u001b[1;33m**\u001b[0m\u001b[0mkwargs\u001b[0m\u001b[1;33m)\u001b[0m\u001b[1;33m\u001b[0m\u001b[1;33m\u001b[0m\u001b[0m\n\u001b[0m\u001b[0;32m     47\u001b[0m     \u001b[1;32mreturn\u001b[0m \u001b[0minner_f\u001b[0m\u001b[1;33m\u001b[0m\u001b[1;33m\u001b[0m\u001b[0m\n\u001b[0;32m     48\u001b[0m \u001b[1;33m\u001b[0m\u001b[0m\n",
      "\u001b[1;32m~\\Anaconda3\\lib\\site-packages\\seaborn\\relational.py\u001b[0m in \u001b[0;36mlineplot\u001b[1;34m(x, y, hue, size, style, data, palette, hue_order, hue_norm, sizes, size_order, size_norm, dashes, markers, style_order, units, estimator, ci, n_boot, seed, sort, err_style, err_kws, legend, ax, **kwargs)\u001b[0m\n\u001b[0;32m    693\u001b[0m         \u001b[0mdata\u001b[0m\u001b[1;33m=\u001b[0m\u001b[0mdata\u001b[0m\u001b[1;33m,\u001b[0m \u001b[0mvariables\u001b[0m\u001b[1;33m=\u001b[0m\u001b[0mvariables\u001b[0m\u001b[1;33m,\u001b[0m\u001b[1;33m\u001b[0m\u001b[1;33m\u001b[0m\u001b[0m\n\u001b[0;32m    694\u001b[0m         \u001b[0mestimator\u001b[0m\u001b[1;33m=\u001b[0m\u001b[0mestimator\u001b[0m\u001b[1;33m,\u001b[0m \u001b[0mci\u001b[0m\u001b[1;33m=\u001b[0m\u001b[0mci\u001b[0m\u001b[1;33m,\u001b[0m \u001b[0mn_boot\u001b[0m\u001b[1;33m=\u001b[0m\u001b[0mn_boot\u001b[0m\u001b[1;33m,\u001b[0m \u001b[0mseed\u001b[0m\u001b[1;33m=\u001b[0m\u001b[0mseed\u001b[0m\u001b[1;33m,\u001b[0m\u001b[1;33m\u001b[0m\u001b[1;33m\u001b[0m\u001b[0m\n\u001b[1;32m--> 695\u001b[1;33m         \u001b[0msort\u001b[0m\u001b[1;33m=\u001b[0m\u001b[0msort\u001b[0m\u001b[1;33m,\u001b[0m \u001b[0merr_style\u001b[0m\u001b[1;33m=\u001b[0m\u001b[0merr_style\u001b[0m\u001b[1;33m,\u001b[0m \u001b[0merr_kws\u001b[0m\u001b[1;33m=\u001b[0m\u001b[0merr_kws\u001b[0m\u001b[1;33m,\u001b[0m \u001b[0mlegend\u001b[0m\u001b[1;33m=\u001b[0m\u001b[0mlegend\u001b[0m\u001b[1;33m,\u001b[0m\u001b[1;33m\u001b[0m\u001b[1;33m\u001b[0m\u001b[0m\n\u001b[0m\u001b[0;32m    696\u001b[0m     )\n\u001b[0;32m    697\u001b[0m \u001b[1;33m\u001b[0m\u001b[0m\n",
      "\u001b[1;32m~\\Anaconda3\\lib\\site-packages\\seaborn\\relational.py\u001b[0m in \u001b[0;36m__init__\u001b[1;34m(self, data, variables, estimator, ci, n_boot, seed, sort, err_style, err_kws, legend)\u001b[0m\n\u001b[0;32m    365\u001b[0m         )\n\u001b[0;32m    366\u001b[0m \u001b[1;33m\u001b[0m\u001b[0m\n\u001b[1;32m--> 367\u001b[1;33m         \u001b[0msuper\u001b[0m\u001b[1;33m(\u001b[0m\u001b[1;33m)\u001b[0m\u001b[1;33m.\u001b[0m\u001b[0m__init__\u001b[0m\u001b[1;33m(\u001b[0m\u001b[0mdata\u001b[0m\u001b[1;33m=\u001b[0m\u001b[0mdata\u001b[0m\u001b[1;33m,\u001b[0m \u001b[0mvariables\u001b[0m\u001b[1;33m=\u001b[0m\u001b[0mvariables\u001b[0m\u001b[1;33m)\u001b[0m\u001b[1;33m\u001b[0m\u001b[1;33m\u001b[0m\u001b[0m\n\u001b[0m\u001b[0;32m    368\u001b[0m \u001b[1;33m\u001b[0m\u001b[0m\n\u001b[0;32m    369\u001b[0m         \u001b[0mself\u001b[0m\u001b[1;33m.\u001b[0m\u001b[0mestimator\u001b[0m \u001b[1;33m=\u001b[0m \u001b[0mestimator\u001b[0m\u001b[1;33m\u001b[0m\u001b[1;33m\u001b[0m\u001b[0m\n",
      "\u001b[1;32m~\\Anaconda3\\lib\\site-packages\\seaborn\\_core.py\u001b[0m in \u001b[0;36m__init__\u001b[1;34m(self, data, variables)\u001b[0m\n\u001b[0;32m    603\u001b[0m     \u001b[1;32mdef\u001b[0m \u001b[0m__init__\u001b[0m\u001b[1;33m(\u001b[0m\u001b[0mself\u001b[0m\u001b[1;33m,\u001b[0m \u001b[0mdata\u001b[0m\u001b[1;33m=\u001b[0m\u001b[1;32mNone\u001b[0m\u001b[1;33m,\u001b[0m \u001b[0mvariables\u001b[0m\u001b[1;33m=\u001b[0m\u001b[1;33m{\u001b[0m\u001b[1;33m}\u001b[0m\u001b[1;33m)\u001b[0m\u001b[1;33m:\u001b[0m\u001b[1;33m\u001b[0m\u001b[1;33m\u001b[0m\u001b[0m\n\u001b[0;32m    604\u001b[0m \u001b[1;33m\u001b[0m\u001b[0m\n\u001b[1;32m--> 605\u001b[1;33m         \u001b[0mself\u001b[0m\u001b[1;33m.\u001b[0m\u001b[0massign_variables\u001b[0m\u001b[1;33m(\u001b[0m\u001b[0mdata\u001b[0m\u001b[1;33m,\u001b[0m \u001b[0mvariables\u001b[0m\u001b[1;33m)\u001b[0m\u001b[1;33m\u001b[0m\u001b[1;33m\u001b[0m\u001b[0m\n\u001b[0m\u001b[0;32m    606\u001b[0m \u001b[1;33m\u001b[0m\u001b[0m\n\u001b[0;32m    607\u001b[0m         \u001b[1;32mfor\u001b[0m \u001b[0mvar\u001b[0m\u001b[1;33m,\u001b[0m \u001b[0mcls\u001b[0m \u001b[1;32min\u001b[0m \u001b[0mself\u001b[0m\u001b[1;33m.\u001b[0m\u001b[0m_semantic_mappings\u001b[0m\u001b[1;33m.\u001b[0m\u001b[0mitems\u001b[0m\u001b[1;33m(\u001b[0m\u001b[1;33m)\u001b[0m\u001b[1;33m:\u001b[0m\u001b[1;33m\u001b[0m\u001b[1;33m\u001b[0m\u001b[0m\n",
      "\u001b[1;32m~\\Anaconda3\\lib\\site-packages\\seaborn\\_core.py\u001b[0m in \u001b[0;36massign_variables\u001b[1;34m(self, data, variables)\u001b[0m\n\u001b[0;32m    667\u001b[0m             \u001b[0mself\u001b[0m\u001b[1;33m.\u001b[0m\u001b[0minput_format\u001b[0m \u001b[1;33m=\u001b[0m \u001b[1;34m\"long\"\u001b[0m\u001b[1;33m\u001b[0m\u001b[1;33m\u001b[0m\u001b[0m\n\u001b[0;32m    668\u001b[0m             plot_data, variables = self._assign_variables_longform(\n\u001b[1;32m--> 669\u001b[1;33m                 \u001b[0mdata\u001b[0m\u001b[1;33m,\u001b[0m \u001b[1;33m**\u001b[0m\u001b[0mvariables\u001b[0m\u001b[1;33m,\u001b[0m\u001b[1;33m\u001b[0m\u001b[1;33m\u001b[0m\u001b[0m\n\u001b[0m\u001b[0;32m    670\u001b[0m             )\n\u001b[0;32m    671\u001b[0m \u001b[1;33m\u001b[0m\u001b[0m\n",
      "\u001b[1;32m~\\Anaconda3\\lib\\site-packages\\seaborn\\_core.py\u001b[0m in \u001b[0;36m_assign_variables_longform\u001b[1;34m(self, data, **kwargs)\u001b[0m\n\u001b[0;32m    901\u001b[0m \u001b[1;33m\u001b[0m\u001b[0m\n\u001b[0;32m    902\u001b[0m                 \u001b[0merr\u001b[0m \u001b[1;33m=\u001b[0m \u001b[1;34mf\"Could not interpret value `{val}` for parameter `{key}`\"\u001b[0m\u001b[1;33m\u001b[0m\u001b[1;33m\u001b[0m\u001b[0m\n\u001b[1;32m--> 903\u001b[1;33m                 \u001b[1;32mraise\u001b[0m \u001b[0mValueError\u001b[0m\u001b[1;33m(\u001b[0m\u001b[0merr\u001b[0m\u001b[1;33m)\u001b[0m\u001b[1;33m\u001b[0m\u001b[1;33m\u001b[0m\u001b[0m\n\u001b[0m\u001b[0;32m    904\u001b[0m \u001b[1;33m\u001b[0m\u001b[0m\n\u001b[0;32m    905\u001b[0m             \u001b[1;32melse\u001b[0m\u001b[1;33m:\u001b[0m\u001b[1;33m\u001b[0m\u001b[1;33m\u001b[0m\u001b[0m\n",
      "\u001b[1;31mValueError\u001b[0m: Could not interpret value `n_week` for parameter `x`"
     ]
    },
    {
     "data": {
      "text/plain": [
       "<Figure size 1080x360 with 0 Axes>"
      ]
     },
     "metadata": {},
     "output_type": "display_data"
    }
   ],
   "source": [
    "plt.figure(figsize = (15,5))\n",
    "sns.lineplot(x=\"n_week\", y=\"total_time\",\n",
    "             hue=\"candidat\",data=df_arcom_clean)\n",
    "#Changing the legend's location \n",
    "plt.legend(loc = 'upper left')\n",
    "#Title:\n",
    "plt.title('Arcom - total time')\n",
    "plt.show()"
   ]
  },
  {
   "cell_type": "markdown",
   "id": "f1523d59",
   "metadata": {},
   "source": [
    "### Saving Arcom"
   ]
  },
  {
   "cell_type": "code",
   "execution_count": 41,
   "id": "0e873353",
   "metadata": {},
   "outputs": [],
   "source": [
    "df_arcom_clean.to_csv('data/clean/df_arcom.csv', index=False)"
   ]
  },
  {
   "cell_type": "markdown",
   "id": "ba0d0561",
   "metadata": {
    "heading_collapsed": true
   },
   "source": [
    "## Polls\n",
    "\n",
    "NOT DONE!!!! (for day)"
   ]
  },
  {
   "cell_type": "markdown",
   "id": "08c998ea",
   "metadata": {
    "hidden": true
   },
   "source": [
    "Do that matter ?? Comparing the polls, internet visibility and participation as well as media\n",
    "\n",
    "[nsppolls](https://github.com/nsppolls/nsppolls)\n",
    "\n",
    "The csv file with every polls for the election:\n",
    "\n",
    "https://raw.githubusercontent.com/nsppolls/nsppolls/master/presidentielle.csv"
   ]
  },
  {
   "cell_type": "code",
   "execution_count": 34,
   "id": "01243fd0",
   "metadata": {
    "hidden": true
   },
   "outputs": [],
   "source": [
    "df_polls = pd.read_csv('https://raw.githubusercontent.com/nsppolls/nsppolls/master/presidentielle.csv')"
   ]
  },
  {
   "cell_type": "code",
   "execution_count": 35,
   "id": "9ebbbdf7",
   "metadata": {
    "hidden": true
   },
   "outputs": [
    {
     "data": {
      "text/html": [
       "<div>\n",
       "<style scoped>\n",
       "    .dataframe tbody tr th:only-of-type {\n",
       "        vertical-align: middle;\n",
       "    }\n",
       "\n",
       "    .dataframe tbody tr th {\n",
       "        vertical-align: top;\n",
       "    }\n",
       "\n",
       "    .dataframe thead th {\n",
       "        text-align: right;\n",
       "    }\n",
       "</style>\n",
       "<table border=\"1\" class=\"dataframe\">\n",
       "  <thead>\n",
       "    <tr style=\"text-align: right;\">\n",
       "      <th></th>\n",
       "      <th>candidat</th>\n",
       "      <th>parti</th>\n",
       "      <th>intentions</th>\n",
       "      <th>erreur_sup</th>\n",
       "      <th>erreur_inf</th>\n",
       "      <th>id</th>\n",
       "      <th>nom_institut</th>\n",
       "      <th>commanditaire</th>\n",
       "      <th>debut_enquete</th>\n",
       "      <th>fin_enquete</th>\n",
       "      <th>echantillon</th>\n",
       "      <th>population</th>\n",
       "      <th>rolling</th>\n",
       "      <th>media</th>\n",
       "      <th>tour</th>\n",
       "      <th>hypothese</th>\n",
       "      <th>sous_echantillon</th>\n",
       "    </tr>\n",
       "  </thead>\n",
       "  <tbody>\n",
       "    <tr>\n",
       "      <th>0</th>\n",
       "      <td>Marine Le Pen</td>\n",
       "      <td>Rassemblement national</td>\n",
       "      <td>16.0</td>\n",
       "      <td>18.0358</td>\n",
       "      <td>13.9642</td>\n",
       "      <td>20220102_0105r_ow</td>\n",
       "      <td>Opinion Way</td>\n",
       "      <td>Les Echos, Radio Classique, Kea Partners</td>\n",
       "      <td>2022-01-02</td>\n",
       "      <td>2022-01-05</td>\n",
       "      <td>1501</td>\n",
       "      <td>Inscrits sur les listes électorales</td>\n",
       "      <td>True</td>\n",
       "      <td>True</td>\n",
       "      <td>Premier tour</td>\n",
       "      <td>NaN</td>\n",
       "      <td>1245.83</td>\n",
       "    </tr>\n",
       "    <tr>\n",
       "      <th>1</th>\n",
       "      <td>Anne Hidalgo</td>\n",
       "      <td>Parti socialiste</td>\n",
       "      <td>4.0</td>\n",
       "      <td>5.0882</td>\n",
       "      <td>2.9118</td>\n",
       "      <td>20220102_0105r_ow</td>\n",
       "      <td>Opinion Way</td>\n",
       "      <td>Les Echos, Radio Classique, Kea Partners</td>\n",
       "      <td>2022-01-02</td>\n",
       "      <td>2022-01-05</td>\n",
       "      <td>1501</td>\n",
       "      <td>Inscrits sur les listes électorales</td>\n",
       "      <td>True</td>\n",
       "      <td>True</td>\n",
       "      <td>Premier tour</td>\n",
       "      <td>NaN</td>\n",
       "      <td>1245.83</td>\n",
       "    </tr>\n",
       "    <tr>\n",
       "      <th>2</th>\n",
       "      <td>Jean-Luc Mélenchon</td>\n",
       "      <td>France insoumise</td>\n",
       "      <td>9.0</td>\n",
       "      <td>10.5892</td>\n",
       "      <td>7.4108</td>\n",
       "      <td>20220102_0105r_ow</td>\n",
       "      <td>Opinion Way</td>\n",
       "      <td>Les Echos, Radio Classique, Kea Partners</td>\n",
       "      <td>2022-01-02</td>\n",
       "      <td>2022-01-05</td>\n",
       "      <td>1501</td>\n",
       "      <td>Inscrits sur les listes électorales</td>\n",
       "      <td>True</td>\n",
       "      <td>True</td>\n",
       "      <td>Premier tour</td>\n",
       "      <td>NaN</td>\n",
       "      <td>1245.83</td>\n",
       "    </tr>\n",
       "    <tr>\n",
       "      <th>3</th>\n",
       "      <td>Nicolas Dupont-Aignan</td>\n",
       "      <td>Debout la France</td>\n",
       "      <td>2.0</td>\n",
       "      <td>2.7774</td>\n",
       "      <td>1.2226</td>\n",
       "      <td>20220102_0105r_ow</td>\n",
       "      <td>Opinion Way</td>\n",
       "      <td>Les Echos, Radio Classique, Kea Partners</td>\n",
       "      <td>2022-01-02</td>\n",
       "      <td>2022-01-05</td>\n",
       "      <td>1501</td>\n",
       "      <td>Inscrits sur les listes électorales</td>\n",
       "      <td>True</td>\n",
       "      <td>True</td>\n",
       "      <td>Premier tour</td>\n",
       "      <td>NaN</td>\n",
       "      <td>1245.83</td>\n",
       "    </tr>\n",
       "    <tr>\n",
       "      <th>4</th>\n",
       "      <td>Arnaud Montebourg</td>\n",
       "      <td>NaN</td>\n",
       "      <td>1.0</td>\n",
       "      <td>1.5525</td>\n",
       "      <td>0.4475</td>\n",
       "      <td>20220102_0105r_ow</td>\n",
       "      <td>Opinion Way</td>\n",
       "      <td>Les Echos, Radio Classique, Kea Partners</td>\n",
       "      <td>2022-01-02</td>\n",
       "      <td>2022-01-05</td>\n",
       "      <td>1501</td>\n",
       "      <td>Inscrits sur les listes électorales</td>\n",
       "      <td>True</td>\n",
       "      <td>True</td>\n",
       "      <td>Premier tour</td>\n",
       "      <td>NaN</td>\n",
       "      <td>1245.83</td>\n",
       "    </tr>\n",
       "  </tbody>\n",
       "</table>\n",
       "</div>"
      ],
      "text/plain": [
       "                candidat                   parti  intentions  erreur_sup  \\\n",
       "0          Marine Le Pen  Rassemblement national        16.0     18.0358   \n",
       "1           Anne Hidalgo        Parti socialiste         4.0      5.0882   \n",
       "2     Jean-Luc Mélenchon        France insoumise         9.0     10.5892   \n",
       "3  Nicolas Dupont-Aignan        Debout la France         2.0      2.7774   \n",
       "4      Arnaud Montebourg                     NaN         1.0      1.5525   \n",
       "\n",
       "   erreur_inf                 id nom_institut  \\\n",
       "0     13.9642  20220102_0105r_ow  Opinion Way   \n",
       "1      2.9118  20220102_0105r_ow  Opinion Way   \n",
       "2      7.4108  20220102_0105r_ow  Opinion Way   \n",
       "3      1.2226  20220102_0105r_ow  Opinion Way   \n",
       "4      0.4475  20220102_0105r_ow  Opinion Way   \n",
       "\n",
       "                              commanditaire debut_enquete fin_enquete  \\\n",
       "0  Les Echos, Radio Classique, Kea Partners    2022-01-02  2022-01-05   \n",
       "1  Les Echos, Radio Classique, Kea Partners    2022-01-02  2022-01-05   \n",
       "2  Les Echos, Radio Classique, Kea Partners    2022-01-02  2022-01-05   \n",
       "3  Les Echos, Radio Classique, Kea Partners    2022-01-02  2022-01-05   \n",
       "4  Les Echos, Radio Classique, Kea Partners    2022-01-02  2022-01-05   \n",
       "\n",
       "   echantillon                           population  rolling  media  \\\n",
       "0         1501  Inscrits sur les listes électorales     True   True   \n",
       "1         1501  Inscrits sur les listes électorales     True   True   \n",
       "2         1501  Inscrits sur les listes électorales     True   True   \n",
       "3         1501  Inscrits sur les listes électorales     True   True   \n",
       "4         1501  Inscrits sur les listes électorales     True   True   \n",
       "\n",
       "           tour hypothese  sous_echantillon  \n",
       "0  Premier tour       NaN           1245.83  \n",
       "1  Premier tour       NaN           1245.83  \n",
       "2  Premier tour       NaN           1245.83  \n",
       "3  Premier tour       NaN           1245.83  \n",
       "4  Premier tour       NaN           1245.83  "
      ]
     },
     "execution_count": 35,
     "metadata": {},
     "output_type": "execute_result"
    }
   ],
   "source": [
    "df_polls.head()"
   ]
  },
  {
   "cell_type": "code",
   "execution_count": 36,
   "id": "54d88b59",
   "metadata": {
    "hidden": true
   },
   "outputs": [
    {
     "data": {
      "text/plain": [
       "(7905, 17)"
      ]
     },
     "execution_count": 36,
     "metadata": {},
     "output_type": "execute_result"
    }
   ],
   "source": [
    "df_polls.shape"
   ]
  },
  {
   "cell_type": "code",
   "execution_count": 58,
   "id": "12d76289",
   "metadata": {
    "hidden": true
   },
   "outputs": [],
   "source": [
    "#Saving df_polls as csv:\n",
    "#df_polls.to_csv('data/polls/df_polls.csv')"
   ]
  },
  {
   "cell_type": "markdown",
   "id": "621e1b26",
   "metadata": {
    "hidden": true
   },
   "source": [
    "### Clean & lookup"
   ]
  },
  {
   "cell_type": "code",
   "execution_count": 37,
   "id": "cd1472ed",
   "metadata": {
    "hidden": true
   },
   "outputs": [
    {
     "data": {
      "text/html": [
       "<div>\n",
       "<style scoped>\n",
       "    .dataframe tbody tr th:only-of-type {\n",
       "        vertical-align: middle;\n",
       "    }\n",
       "\n",
       "    .dataframe tbody tr th {\n",
       "        vertical-align: top;\n",
       "    }\n",
       "\n",
       "    .dataframe thead th {\n",
       "        text-align: right;\n",
       "    }\n",
       "</style>\n",
       "<table border=\"1\" class=\"dataframe\">\n",
       "  <thead>\n",
       "    <tr style=\"text-align: right;\">\n",
       "      <th></th>\n",
       "      <th>candidat</th>\n",
       "      <th>parti</th>\n",
       "      <th>intentions</th>\n",
       "      <th>erreur_sup</th>\n",
       "      <th>erreur_inf</th>\n",
       "      <th>id</th>\n",
       "      <th>nom_institut</th>\n",
       "      <th>commanditaire</th>\n",
       "      <th>debut_enquete</th>\n",
       "      <th>fin_enquete</th>\n",
       "      <th>echantillon</th>\n",
       "      <th>population</th>\n",
       "      <th>rolling</th>\n",
       "      <th>media</th>\n",
       "      <th>tour</th>\n",
       "      <th>hypothese</th>\n",
       "      <th>sous_echantillon</th>\n",
       "    </tr>\n",
       "  </thead>\n",
       "  <tbody>\n",
       "    <tr>\n",
       "      <th>0</th>\n",
       "      <td>Marine Le Pen</td>\n",
       "      <td>Rassemblement national</td>\n",
       "      <td>16.0</td>\n",
       "      <td>18.0358</td>\n",
       "      <td>13.9642</td>\n",
       "      <td>20220102_0105r_ow</td>\n",
       "      <td>Opinion Way</td>\n",
       "      <td>Les Echos, Radio Classique, Kea Partners</td>\n",
       "      <td>2022-01-02</td>\n",
       "      <td>2022-01-05</td>\n",
       "      <td>1501</td>\n",
       "      <td>Inscrits sur les listes électorales</td>\n",
       "      <td>True</td>\n",
       "      <td>True</td>\n",
       "      <td>Premier tour</td>\n",
       "      <td>NaN</td>\n",
       "      <td>1245.83</td>\n",
       "    </tr>\n",
       "    <tr>\n",
       "      <th>1</th>\n",
       "      <td>Anne Hidalgo</td>\n",
       "      <td>Parti socialiste</td>\n",
       "      <td>4.0</td>\n",
       "      <td>5.0882</td>\n",
       "      <td>2.9118</td>\n",
       "      <td>20220102_0105r_ow</td>\n",
       "      <td>Opinion Way</td>\n",
       "      <td>Les Echos, Radio Classique, Kea Partners</td>\n",
       "      <td>2022-01-02</td>\n",
       "      <td>2022-01-05</td>\n",
       "      <td>1501</td>\n",
       "      <td>Inscrits sur les listes électorales</td>\n",
       "      <td>True</td>\n",
       "      <td>True</td>\n",
       "      <td>Premier tour</td>\n",
       "      <td>NaN</td>\n",
       "      <td>1245.83</td>\n",
       "    </tr>\n",
       "    <tr>\n",
       "      <th>2</th>\n",
       "      <td>Jean-Luc Mélenchon</td>\n",
       "      <td>France insoumise</td>\n",
       "      <td>9.0</td>\n",
       "      <td>10.5892</td>\n",
       "      <td>7.4108</td>\n",
       "      <td>20220102_0105r_ow</td>\n",
       "      <td>Opinion Way</td>\n",
       "      <td>Les Echos, Radio Classique, Kea Partners</td>\n",
       "      <td>2022-01-02</td>\n",
       "      <td>2022-01-05</td>\n",
       "      <td>1501</td>\n",
       "      <td>Inscrits sur les listes électorales</td>\n",
       "      <td>True</td>\n",
       "      <td>True</td>\n",
       "      <td>Premier tour</td>\n",
       "      <td>NaN</td>\n",
       "      <td>1245.83</td>\n",
       "    </tr>\n",
       "    <tr>\n",
       "      <th>3</th>\n",
       "      <td>Nicolas Dupont-Aignan</td>\n",
       "      <td>Debout la France</td>\n",
       "      <td>2.0</td>\n",
       "      <td>2.7774</td>\n",
       "      <td>1.2226</td>\n",
       "      <td>20220102_0105r_ow</td>\n",
       "      <td>Opinion Way</td>\n",
       "      <td>Les Echos, Radio Classique, Kea Partners</td>\n",
       "      <td>2022-01-02</td>\n",
       "      <td>2022-01-05</td>\n",
       "      <td>1501</td>\n",
       "      <td>Inscrits sur les listes électorales</td>\n",
       "      <td>True</td>\n",
       "      <td>True</td>\n",
       "      <td>Premier tour</td>\n",
       "      <td>NaN</td>\n",
       "      <td>1245.83</td>\n",
       "    </tr>\n",
       "    <tr>\n",
       "      <th>4</th>\n",
       "      <td>Arnaud Montebourg</td>\n",
       "      <td>NaN</td>\n",
       "      <td>1.0</td>\n",
       "      <td>1.5525</td>\n",
       "      <td>0.4475</td>\n",
       "      <td>20220102_0105r_ow</td>\n",
       "      <td>Opinion Way</td>\n",
       "      <td>Les Echos, Radio Classique, Kea Partners</td>\n",
       "      <td>2022-01-02</td>\n",
       "      <td>2022-01-05</td>\n",
       "      <td>1501</td>\n",
       "      <td>Inscrits sur les listes électorales</td>\n",
       "      <td>True</td>\n",
       "      <td>True</td>\n",
       "      <td>Premier tour</td>\n",
       "      <td>NaN</td>\n",
       "      <td>1245.83</td>\n",
       "    </tr>\n",
       "  </tbody>\n",
       "</table>\n",
       "</div>"
      ],
      "text/plain": [
       "                candidat                   parti  intentions  erreur_sup  \\\n",
       "0          Marine Le Pen  Rassemblement national        16.0     18.0358   \n",
       "1           Anne Hidalgo        Parti socialiste         4.0      5.0882   \n",
       "2     Jean-Luc Mélenchon        France insoumise         9.0     10.5892   \n",
       "3  Nicolas Dupont-Aignan        Debout la France         2.0      2.7774   \n",
       "4      Arnaud Montebourg                     NaN         1.0      1.5525   \n",
       "\n",
       "   erreur_inf                 id nom_institut  \\\n",
       "0     13.9642  20220102_0105r_ow  Opinion Way   \n",
       "1      2.9118  20220102_0105r_ow  Opinion Way   \n",
       "2      7.4108  20220102_0105r_ow  Opinion Way   \n",
       "3      1.2226  20220102_0105r_ow  Opinion Way   \n",
       "4      0.4475  20220102_0105r_ow  Opinion Way   \n",
       "\n",
       "                              commanditaire debut_enquete fin_enquete  \\\n",
       "0  Les Echos, Radio Classique, Kea Partners    2022-01-02  2022-01-05   \n",
       "1  Les Echos, Radio Classique, Kea Partners    2022-01-02  2022-01-05   \n",
       "2  Les Echos, Radio Classique, Kea Partners    2022-01-02  2022-01-05   \n",
       "3  Les Echos, Radio Classique, Kea Partners    2022-01-02  2022-01-05   \n",
       "4  Les Echos, Radio Classique, Kea Partners    2022-01-02  2022-01-05   \n",
       "\n",
       "   echantillon                           population  rolling  media  \\\n",
       "0         1501  Inscrits sur les listes électorales     True   True   \n",
       "1         1501  Inscrits sur les listes électorales     True   True   \n",
       "2         1501  Inscrits sur les listes électorales     True   True   \n",
       "3         1501  Inscrits sur les listes électorales     True   True   \n",
       "4         1501  Inscrits sur les listes électorales     True   True   \n",
       "\n",
       "           tour hypothese  sous_echantillon  \n",
       "0  Premier tour       NaN           1245.83  \n",
       "1  Premier tour       NaN           1245.83  \n",
       "2  Premier tour       NaN           1245.83  \n",
       "3  Premier tour       NaN           1245.83  \n",
       "4  Premier tour       NaN           1245.83  "
      ]
     },
     "execution_count": 37,
     "metadata": {},
     "output_type": "execute_result"
    }
   ],
   "source": [
    "df_polls.head()"
   ]
  },
  {
   "cell_type": "code",
   "execution_count": 38,
   "id": "b30543dc",
   "metadata": {
    "hidden": true
   },
   "outputs": [
    {
     "data": {
      "text/plain": [
       "Index(['candidat', 'parti', 'intentions', 'erreur_sup', 'erreur_inf', 'id',\n",
       "       'nom_institut', 'commanditaire', 'debut_enquete', 'fin_enquete',\n",
       "       'echantillon', 'population', 'rolling', 'media', 'tour', 'hypothese',\n",
       "       'sous_echantillon'],\n",
       "      dtype='object')"
      ]
     },
     "execution_count": 38,
     "metadata": {},
     "output_type": "execute_result"
    }
   ],
   "source": [
    "df_polls.columns"
   ]
  },
  {
   "cell_type": "markdown",
   "id": "e64dad3f",
   "metadata": {
    "hidden": true
   },
   "source": [
    "#### Selecting candidates "
   ]
  },
  {
   "cell_type": "code",
   "execution_count": 39,
   "id": "85c046c4",
   "metadata": {
    "hidden": true
   },
   "outputs": [
    {
     "data": {
      "text/plain": [
       "array(['Marine Le Pen', 'Anne Hidalgo', 'Jean-Luc Mélenchon',\n",
       "       'Nicolas Dupont-Aignan', 'Arnaud Montebourg', 'Yannick Jadot',\n",
       "       'Fabien Roussel', 'Eric Zemmour', 'Emmanuel Macron',\n",
       "       'Valérie Pécresse', 'Philippe Poutou', 'Nathalie Arthaud',\n",
       "       'Jean Lassalle', 'Christiane Taubira', 'François Asselineau',\n",
       "       'Xavier Bertrand', 'Michel Barnier', 'Florian Philippot',\n",
       "       'Hélène Thouy', 'Jean-Christophe Lagarde', 'Jean-Frédéric Poisson',\n",
       "       'Sandrine Rousseau', 'Laurent Wauquiez', 'François Baroin',\n",
       "       'Rachida Dati', 'Olivier Faure', 'Ségolène Royal',\n",
       "       'Bruno Retailleau', 'François Hollande', 'autre', 'Eric Piolle',\n",
       "       'Eric Ciotti', 'Philippe Juvin', 'Denis Payre',\n",
       "       'Jacques Cheminade'], dtype=object)"
      ]
     },
     "execution_count": 39,
     "metadata": {},
     "output_type": "execute_result"
    }
   ],
   "source": [
    "df_polls['candidat'].unique()"
   ]
  },
  {
   "cell_type": "code",
   "execution_count": 40,
   "id": "87ad8150",
   "metadata": {
    "hidden": true
   },
   "outputs": [],
   "source": [
    "selected_candidates = ['Marine Le Pen', 'Anne Hidalgo', 'Jean-Luc Mélenchon',\n",
    "       'Nicolas Dupont-Aignan', 'Yannick Jadot','Fabien Roussel', 'Eric Zemmour', 'Emmanuel Macron',\n",
    "       'Valérie Pécresse', 'Philippe Poutou', 'Nathalie Arthaud',\n",
    "       'Jean Lassalle']"
   ]
  },
  {
   "cell_type": "markdown",
   "id": "bbf3dc17",
   "metadata": {
    "hidden": true
   },
   "source": [
    "#### Hypotheses"
   ]
  },
  {
   "cell_type": "code",
   "execution_count": 41,
   "id": "d47c7d76",
   "metadata": {
    "hidden": true
   },
   "outputs": [
    {
     "data": {
      "text/plain": [
       "array([nan, 'Hypothèse Macron / Pécresse', 'Hypothèse Macron / Le Pen',\n",
       "       'Hypothèse Macron / Mélenchon', 'Hypothèse Macron / Zemmour',\n",
       "       'Hypothèse Pécresse / Zemmour', 'Hypothèse Bertrand',\n",
       "       'Hypothèse Barnier / Zemmour', 'Hypothèse Bertrand / Zemmour',\n",
       "       'Hypothèse Barnier', 'Hypothèse Pécresse',\n",
       "       'Hypothèse Macron / Bertrand', 'Hypothèse Bertrand sans Zemmour',\n",
       "       'Hypothèse Barnier sans Zemmour',\n",
       "       'Hypothèse Pécresse sans Zemmour', 'Hypothèse Rousseau / Bertrand',\n",
       "       'Hypothèse Jadot / Pécresse', 'Hypothèse Jadot / Bertrand',\n",
       "       'Hypothèse Bertrand et Hidalgo', 'Hypothèse Wauquiez',\n",
       "       'Hypothèse Bertrand et Jadot', 'Hypothèse Macron - Le Pen',\n",
       "       'Hypothèse Macron - Bertrand', 'Hypothèse Bertrand - Le Pen',\n",
       "       'Hypothèse avec Taubira', 'Hypothèse sans Taubira',\n",
       "       'Hypothèse X. Bertrand', 'Hypothèse F. Baroin', 'Hypothèse Dati',\n",
       "       'Hypothèse Royal', 'Hypothèse Retailleau',\n",
       "       'Hypothèse UG-Mélenchon', 'Hypothèse UG-Hidalgo',\n",
       "       'Hypothèse Hollande', 'Hypothèse UG-Jadot', 'Hypothèse Baroin',\n",
       "       'Hypothèse Hidalgo', 'Hypothèse M. Barnier',\n",
       "       'Hypothèse Jadot-Hidalgo', 'Hypothèse Jadot-Montebourg',\n",
       "       'Hypothèse Jadot-Montebourg-Hidalgo', 'Hypothèse Piolle-Hidalgo',\n",
       "       'Hypothèse Jadot-Hollande', 'Hypothèse Jadot', 'Hypothèse Ciotti',\n",
       "       'Hypothèse Juvin', 'Hypothèse Payre',\n",
       "       'Hypothèse Baroin-Faure-Jadot', 'Hypothèse Bertrand-Jadot',\n",
       "       'Hypothèse Baroin-Jadot', 'Hypothèse Bertrand-Faure-Jadot',\n",
       "       'Hypothèse Montebourg / Bertrand',\n",
       "       'Hypothèse Hidalgo / Bertrand / Pécresse',\n",
       "       'Hypothèse Hidalgo / Bertrand', 'Hypothèse Hidalgo / Pécresse',\n",
       "       'Hypothèse Bertrand / Montebourg', 'Hypothèse Pécresse / Le Pen',\n",
       "       'Hypothèse Bertrand / Le Pen', 'Hypothèse Bertrand et Zemmour',\n",
       "       'Hypothèse Pécresse-Montebourg', 'Hypothèse Bertrand-Montebourg',\n",
       "       'Hypothèse Pécresse-Hidalgo', 'Hypothèse Bertrand-Hidalgo',\n",
       "       'Hypothèse Valérie Pécresse', 'Hypothèse Michel Barnier',\n",
       "       'Hypothèse Bruno Retailleau', 'Hypothèse Xavier Bertrand',\n",
       "       'Hypothèse Laurent Wauquiez', 'Hypothèse Le Pen / Bertrand',\n",
       "       'Hypothèse Macron / Barnier', 'Hytpohèse Macron / Pécresse',\n",
       "       'Hytpohèse Macron / Le Pen', 'Hytpohèse Macron / Zemmour',\n",
       "       'Hypothèse Jadot-Pécresse', 'Hypothèse Hidalgo-Bertrand',\n",
       "       'Hypothèse Hidalgo-Pécresse', 'Hypothèse Jadot-Bertrand',\n",
       "       'Hypothèse Montebourg-Jadot', 'Hypothèse Hidalgo-Piolle',\n",
       "       'Hypothèse Macron', 'Hypothèse Mélenchon',\n",
       "       'Hypothèse « offre complète\\xa0»',\n",
       "       'Hypothèse Union de la gauche derrière Jadot',\n",
       "       'Hypothèse Union de la gauche derrière Mélenchon',\n",
       "       'Hypothèse Union de la gauche derrière Hidalgo',\n",
       "       'Hypothèse Macron-Le Pen', 'Hypothèse Macron-Bertrand',\n",
       "       'Hypothèse Le Pen-Bertrand', 'Hypothèse V. Pécresse',\n",
       "       'Hypothèse L. Wauquiez', 'Hypothèse Hidalgo / Ciotti',\n",
       "       'Hypothèse Ciotti / Zemmour', 'Hypothèse Le Pen / Pécresse',\n",
       "       'Hypothèse Taubira candidate', 'Hyptohèse sans Taubira',\n",
       "       'Hyptohèse avec Taubira', 'Hyptohèse Macron / Le Pen',\n",
       "       'Hyptohèse Macron / Pécresse', 'Hypothèse Rousseau / Pécresse',\n",
       "       'Hypothèse Le Pen / Macron', 'Hytpohèse Macron / Mélenchon',\n",
       "       'Hypothèse Taubira', 'Hypothèse sans union à gauche',\n",
       "       'Hytpothèse Macron / Zemmour', 'Hytpothèse Macron / Le Pen',\n",
       "       'Hytpothèse Macron / Pécresse', 'Macron - Le Pen',\n",
       "       'Hidalgo - Le Pen', 'Bertrand - Le Pen',\n",
       "       'Hypothèse François Baroin'], dtype=object)"
      ]
     },
     "execution_count": 41,
     "metadata": {},
     "output_type": "execute_result"
    }
   ],
   "source": [
    "df_polls['hypothese'].unique()"
   ]
  },
  {
   "cell_type": "code",
   "execution_count": 42,
   "id": "78015789",
   "metadata": {
    "hidden": true
   },
   "outputs": [
    {
     "data": {
      "text/plain": [
       "(7905,)"
      ]
     },
     "execution_count": 42,
     "metadata": {},
     "output_type": "execute_result"
    }
   ],
   "source": [
    "df_polls['hypothese'].shape"
   ]
  },
  {
   "cell_type": "code",
   "execution_count": 43,
   "id": "e0491ddb",
   "metadata": {
    "hidden": true
   },
   "outputs": [
    {
     "data": {
      "text/plain": [
       "(3064, 17)"
      ]
     },
     "execution_count": 43,
     "metadata": {},
     "output_type": "execute_result"
    }
   ],
   "source": [
    "df_polls[df_polls['hypothese'].isna()].shape"
   ]
  },
  {
   "cell_type": "markdown",
   "id": "fe654f0e",
   "metadata": {
    "hidden": true
   },
   "source": [
    "We are going to only select the polls without any *hypothese*. "
   ]
  },
  {
   "cell_type": "markdown",
   "id": "d666a8de",
   "metadata": {
    "hidden": true
   },
   "source": [
    "#### Date transformation"
   ]
  },
  {
   "cell_type": "markdown",
   "id": "d3208a5c",
   "metadata": {
    "hidden": true
   },
   "source": [
    "In order to make viz easier, we are going to replace the **enddate** - `fin_enquete` - with the week number. \n",
    "\n",
    "That way, it will also be easier to link the other data with this one of polls. "
   ]
  },
  {
   "cell_type": "code",
   "execution_count": 44,
   "id": "bba01397",
   "metadata": {
    "hidden": true
   },
   "outputs": [],
   "source": [
    "year = datetime.date(2010, 6, 16).isocalendar()[0]\n",
    "n_week = datetime.date(2010, 6, 16).isocalendar()[1]"
   ]
  },
  {
   "cell_type": "code",
   "execution_count": 45,
   "id": "7e81e632",
   "metadata": {
    "hidden": true
   },
   "outputs": [],
   "source": [
    "df_polls['fin_enquete'] = pd.to_datetime(df_polls['fin_enquete'])\n",
    "df_polls['n_week']=df_polls['fin_enquete'].apply(lambda x: x.isocalendar()[1])\n",
    "df_polls['year']=df_polls['fin_enquete'].apply(lambda x: x.isocalendar()[0])"
   ]
  },
  {
   "cell_type": "code",
   "execution_count": 46,
   "id": "679b3825",
   "metadata": {
    "hidden": true
   },
   "outputs": [
    {
     "data": {
      "text/html": [
       "<div>\n",
       "<style scoped>\n",
       "    .dataframe tbody tr th:only-of-type {\n",
       "        vertical-align: middle;\n",
       "    }\n",
       "\n",
       "    .dataframe tbody tr th {\n",
       "        vertical-align: top;\n",
       "    }\n",
       "\n",
       "    .dataframe thead th {\n",
       "        text-align: right;\n",
       "    }\n",
       "</style>\n",
       "<table border=\"1\" class=\"dataframe\">\n",
       "  <thead>\n",
       "    <tr style=\"text-align: right;\">\n",
       "      <th></th>\n",
       "      <th>candidat</th>\n",
       "      <th>parti</th>\n",
       "      <th>intentions</th>\n",
       "      <th>erreur_sup</th>\n",
       "      <th>erreur_inf</th>\n",
       "      <th>id</th>\n",
       "      <th>nom_institut</th>\n",
       "      <th>commanditaire</th>\n",
       "      <th>debut_enquete</th>\n",
       "      <th>fin_enquete</th>\n",
       "      <th>echantillon</th>\n",
       "      <th>population</th>\n",
       "      <th>rolling</th>\n",
       "      <th>media</th>\n",
       "      <th>tour</th>\n",
       "      <th>hypothese</th>\n",
       "      <th>sous_echantillon</th>\n",
       "      <th>n_week</th>\n",
       "      <th>year</th>\n",
       "    </tr>\n",
       "  </thead>\n",
       "  <tbody>\n",
       "    <tr>\n",
       "      <th>0</th>\n",
       "      <td>Marine Le Pen</td>\n",
       "      <td>Rassemblement national</td>\n",
       "      <td>16.0</td>\n",
       "      <td>18.0358</td>\n",
       "      <td>13.9642</td>\n",
       "      <td>20220102_0105r_ow</td>\n",
       "      <td>Opinion Way</td>\n",
       "      <td>Les Echos, Radio Classique, Kea Partners</td>\n",
       "      <td>2022-01-02</td>\n",
       "      <td>2022-01-05</td>\n",
       "      <td>1501</td>\n",
       "      <td>Inscrits sur les listes électorales</td>\n",
       "      <td>True</td>\n",
       "      <td>True</td>\n",
       "      <td>Premier tour</td>\n",
       "      <td>NaN</td>\n",
       "      <td>1245.83</td>\n",
       "      <td>1</td>\n",
       "      <td>2022</td>\n",
       "    </tr>\n",
       "    <tr>\n",
       "      <th>1</th>\n",
       "      <td>Anne Hidalgo</td>\n",
       "      <td>Parti socialiste</td>\n",
       "      <td>4.0</td>\n",
       "      <td>5.0882</td>\n",
       "      <td>2.9118</td>\n",
       "      <td>20220102_0105r_ow</td>\n",
       "      <td>Opinion Way</td>\n",
       "      <td>Les Echos, Radio Classique, Kea Partners</td>\n",
       "      <td>2022-01-02</td>\n",
       "      <td>2022-01-05</td>\n",
       "      <td>1501</td>\n",
       "      <td>Inscrits sur les listes électorales</td>\n",
       "      <td>True</td>\n",
       "      <td>True</td>\n",
       "      <td>Premier tour</td>\n",
       "      <td>NaN</td>\n",
       "      <td>1245.83</td>\n",
       "      <td>1</td>\n",
       "      <td>2022</td>\n",
       "    </tr>\n",
       "    <tr>\n",
       "      <th>2</th>\n",
       "      <td>Jean-Luc Mélenchon</td>\n",
       "      <td>France insoumise</td>\n",
       "      <td>9.0</td>\n",
       "      <td>10.5892</td>\n",
       "      <td>7.4108</td>\n",
       "      <td>20220102_0105r_ow</td>\n",
       "      <td>Opinion Way</td>\n",
       "      <td>Les Echos, Radio Classique, Kea Partners</td>\n",
       "      <td>2022-01-02</td>\n",
       "      <td>2022-01-05</td>\n",
       "      <td>1501</td>\n",
       "      <td>Inscrits sur les listes électorales</td>\n",
       "      <td>True</td>\n",
       "      <td>True</td>\n",
       "      <td>Premier tour</td>\n",
       "      <td>NaN</td>\n",
       "      <td>1245.83</td>\n",
       "      <td>1</td>\n",
       "      <td>2022</td>\n",
       "    </tr>\n",
       "    <tr>\n",
       "      <th>3</th>\n",
       "      <td>Nicolas Dupont-Aignan</td>\n",
       "      <td>Debout la France</td>\n",
       "      <td>2.0</td>\n",
       "      <td>2.7774</td>\n",
       "      <td>1.2226</td>\n",
       "      <td>20220102_0105r_ow</td>\n",
       "      <td>Opinion Way</td>\n",
       "      <td>Les Echos, Radio Classique, Kea Partners</td>\n",
       "      <td>2022-01-02</td>\n",
       "      <td>2022-01-05</td>\n",
       "      <td>1501</td>\n",
       "      <td>Inscrits sur les listes électorales</td>\n",
       "      <td>True</td>\n",
       "      <td>True</td>\n",
       "      <td>Premier tour</td>\n",
       "      <td>NaN</td>\n",
       "      <td>1245.83</td>\n",
       "      <td>1</td>\n",
       "      <td>2022</td>\n",
       "    </tr>\n",
       "    <tr>\n",
       "      <th>4</th>\n",
       "      <td>Arnaud Montebourg</td>\n",
       "      <td>NaN</td>\n",
       "      <td>1.0</td>\n",
       "      <td>1.5525</td>\n",
       "      <td>0.4475</td>\n",
       "      <td>20220102_0105r_ow</td>\n",
       "      <td>Opinion Way</td>\n",
       "      <td>Les Echos, Radio Classique, Kea Partners</td>\n",
       "      <td>2022-01-02</td>\n",
       "      <td>2022-01-05</td>\n",
       "      <td>1501</td>\n",
       "      <td>Inscrits sur les listes électorales</td>\n",
       "      <td>True</td>\n",
       "      <td>True</td>\n",
       "      <td>Premier tour</td>\n",
       "      <td>NaN</td>\n",
       "      <td>1245.83</td>\n",
       "      <td>1</td>\n",
       "      <td>2022</td>\n",
       "    </tr>\n",
       "  </tbody>\n",
       "</table>\n",
       "</div>"
      ],
      "text/plain": [
       "                candidat                   parti  intentions  erreur_sup  \\\n",
       "0          Marine Le Pen  Rassemblement national        16.0     18.0358   \n",
       "1           Anne Hidalgo        Parti socialiste         4.0      5.0882   \n",
       "2     Jean-Luc Mélenchon        France insoumise         9.0     10.5892   \n",
       "3  Nicolas Dupont-Aignan        Debout la France         2.0      2.7774   \n",
       "4      Arnaud Montebourg                     NaN         1.0      1.5525   \n",
       "\n",
       "   erreur_inf                 id nom_institut  \\\n",
       "0     13.9642  20220102_0105r_ow  Opinion Way   \n",
       "1      2.9118  20220102_0105r_ow  Opinion Way   \n",
       "2      7.4108  20220102_0105r_ow  Opinion Way   \n",
       "3      1.2226  20220102_0105r_ow  Opinion Way   \n",
       "4      0.4475  20220102_0105r_ow  Opinion Way   \n",
       "\n",
       "                              commanditaire debut_enquete fin_enquete  \\\n",
       "0  Les Echos, Radio Classique, Kea Partners    2022-01-02  2022-01-05   \n",
       "1  Les Echos, Radio Classique, Kea Partners    2022-01-02  2022-01-05   \n",
       "2  Les Echos, Radio Classique, Kea Partners    2022-01-02  2022-01-05   \n",
       "3  Les Echos, Radio Classique, Kea Partners    2022-01-02  2022-01-05   \n",
       "4  Les Echos, Radio Classique, Kea Partners    2022-01-02  2022-01-05   \n",
       "\n",
       "   echantillon                           population  rolling  media  \\\n",
       "0         1501  Inscrits sur les listes électorales     True   True   \n",
       "1         1501  Inscrits sur les listes électorales     True   True   \n",
       "2         1501  Inscrits sur les listes électorales     True   True   \n",
       "3         1501  Inscrits sur les listes électorales     True   True   \n",
       "4         1501  Inscrits sur les listes électorales     True   True   \n",
       "\n",
       "           tour hypothese  sous_echantillon  n_week  year  \n",
       "0  Premier tour       NaN           1245.83       1  2022  \n",
       "1  Premier tour       NaN           1245.83       1  2022  \n",
       "2  Premier tour       NaN           1245.83       1  2022  \n",
       "3  Premier tour       NaN           1245.83       1  2022  \n",
       "4  Premier tour       NaN           1245.83       1  2022  "
      ]
     },
     "execution_count": 46,
     "metadata": {},
     "output_type": "execute_result"
    }
   ],
   "source": [
    "df_polls.head()"
   ]
  },
  {
   "cell_type": "markdown",
   "id": "2963daec",
   "metadata": {
    "hidden": true
   },
   "source": [
    "#### Selecting the `tour`"
   ]
  },
  {
   "cell_type": "code",
   "execution_count": 47,
   "id": "52e45cb9",
   "metadata": {
    "hidden": true
   },
   "outputs": [
    {
     "data": {
      "text/plain": [
       "array(['Premier tour', 'Deuxième tour'], dtype=object)"
      ]
     },
     "execution_count": 47,
     "metadata": {},
     "output_type": "execute_result"
    }
   ],
   "source": [
    "df_polls['tour'].unique()"
   ]
  },
  {
   "cell_type": "markdown",
   "id": "8a5d6a70",
   "metadata": {
    "hidden": true
   },
   "source": [
    "#### Selecting the necessary columns"
   ]
  },
  {
   "cell_type": "code",
   "execution_count": 48,
   "id": "3167ba79",
   "metadata": {
    "hidden": true
   },
   "outputs": [],
   "source": [
    "selected_polls_cols = ['candidat', 'intentions', 'erreur_sup', 'erreur_inf', \n",
    "                       'tour', 'hypothese','sous_echantillon', 'n_week', 'year']"
   ]
  },
  {
   "cell_type": "markdown",
   "id": "12fb0203",
   "metadata": {
    "hidden": true
   },
   "source": [
    "#### Applying the transformation:"
   ]
  },
  {
   "cell_type": "code",
   "execution_count": 49,
   "id": "200b376e",
   "metadata": {
    "hidden": true
   },
   "outputs": [],
   "source": [
    "#Only 2022:\n",
    "df_polls = df_polls[df_polls['year']==2022]\n",
    "#Only the selected candidates: \n",
    "df_polls = df_polls[df_polls['candidat'].isin(selected_candidates)]\n",
    "#Only without hypothese:\n",
    "df_polls = df_polls[df_polls['hypothese'].isna()]\n",
    "#Only for the first round: \n",
    "df_polls = df_polls[df_polls['tour']=='Premier tour']\n",
    "#We are then selecting only some columns: \n",
    "df_polls = df_polls[selected_polls_cols]"
   ]
  },
  {
   "cell_type": "markdown",
   "id": "a04d347f",
   "metadata": {
    "hidden": true
   },
   "source": [
    "Then, we have to groupby the candidate, the week number and the year to aggregate the means. "
   ]
  },
  {
   "cell_type": "code",
   "execution_count": 50,
   "id": "d5b3a5a9",
   "metadata": {
    "hidden": true
   },
   "outputs": [],
   "source": [
    "df_util_polls = df_polls.groupby(['candidat', 'n_week'])['intentions'].mean().reset_index(drop=False)"
   ]
  },
  {
   "cell_type": "code",
   "execution_count": 51,
   "id": "2c90562e",
   "metadata": {
    "hidden": true
   },
   "outputs": [
    {
     "data": {
      "text/html": [
       "<div>\n",
       "<style scoped>\n",
       "    .dataframe tbody tr th:only-of-type {\n",
       "        vertical-align: middle;\n",
       "    }\n",
       "\n",
       "    .dataframe tbody tr th {\n",
       "        vertical-align: top;\n",
       "    }\n",
       "\n",
       "    .dataframe thead th {\n",
       "        text-align: right;\n",
       "    }\n",
       "</style>\n",
       "<table border=\"1\" class=\"dataframe\">\n",
       "  <thead>\n",
       "    <tr style=\"text-align: right;\">\n",
       "      <th></th>\n",
       "      <th>candidat</th>\n",
       "      <th>n_week</th>\n",
       "      <th>intentions</th>\n",
       "    </tr>\n",
       "  </thead>\n",
       "  <tbody>\n",
       "    <tr>\n",
       "      <th>109</th>\n",
       "      <td>Nicolas Dupont-Aignan</td>\n",
       "      <td>6</td>\n",
       "      <td>1.562500</td>\n",
       "    </tr>\n",
       "    <tr>\n",
       "      <th>105</th>\n",
       "      <td>Nicolas Dupont-Aignan</td>\n",
       "      <td>2</td>\n",
       "      <td>2.071429</td>\n",
       "    </tr>\n",
       "    <tr>\n",
       "      <th>52</th>\n",
       "      <td>Jean Lassalle</td>\n",
       "      <td>1</td>\n",
       "      <td>1.071429</td>\n",
       "    </tr>\n",
       "    <tr>\n",
       "      <th>54</th>\n",
       "      <td>Jean Lassalle</td>\n",
       "      <td>3</td>\n",
       "      <td>1.333333</td>\n",
       "    </tr>\n",
       "    <tr>\n",
       "      <th>67</th>\n",
       "      <td>Jean-Luc Mélenchon</td>\n",
       "      <td>3</td>\n",
       "      <td>9.791667</td>\n",
       "    </tr>\n",
       "  </tbody>\n",
       "</table>\n",
       "</div>"
      ],
      "text/plain": [
       "                  candidat  n_week  intentions\n",
       "109  Nicolas Dupont-Aignan       6    1.562500\n",
       "105  Nicolas Dupont-Aignan       2    2.071429\n",
       "52           Jean Lassalle       1    1.071429\n",
       "54           Jean Lassalle       3    1.333333\n",
       "67      Jean-Luc Mélenchon       3    9.791667"
      ]
     },
     "execution_count": 51,
     "metadata": {},
     "output_type": "execute_result"
    }
   ],
   "source": [
    "df_util_polls.sample(5)"
   ]
  },
  {
   "cell_type": "markdown",
   "id": "a19ee404",
   "metadata": {
    "hidden": true
   },
   "source": [
    "### VIZ!"
   ]
  },
  {
   "cell_type": "code",
   "execution_count": 52,
   "id": "b7432a9c",
   "metadata": {
    "hidden": true
   },
   "outputs": [
    {
     "data": {
      "image/png": "[encoded data removed]",
      "text/plain": [
       "<Figure size 1080x360 with 1 Axes>"
      ]
     },
     "metadata": {
      "needs_background": "light"
     },
     "output_type": "display_data"
    }
   ],
   "source": [
    "plt.figure(figsize = (15,5))\n",
    "sns.lineplot(x=\"n_week\", y=\"intentions\",\n",
    "             hue=\"candidat\",data=df_util_polls)\n",
    "#Changing the legend's location \n",
    "plt.legend(loc = 'upper left')\n",
    "#Title:\n",
    "plt.title('Polls')\n",
    "plt.show()"
   ]
  },
  {
   "cell_type": "markdown",
   "id": "db108fcb",
   "metadata": {
    "hidden": true
   },
   "source": [
    "Really smoothed??? Is that an issue???"
   ]
  },
  {
   "cell_type": "markdown",
   "id": "bfcab901",
   "metadata": {
    "hidden": true
   },
   "source": [
    "### Saving polls"
   ]
  },
  {
   "cell_type": "code",
   "execution_count": 53,
   "id": "4f0f4dbe",
   "metadata": {
    "hidden": true
   },
   "outputs": [],
   "source": [
    "df_util_polls.to_csv('data/clean/df_polls.csv', index=False)"
   ]
  }
 ],
 "metadata": {
  "kernelspec": {
   "display_name": "Python 3 (ipykernel)",
   "language": "python",
   "name": "python3"
  },
  "language_info": {
   "codemirror_mode": {
    "name": "ipython",
    "version": 3
   },
   "file_extension": ".py",
   "mimetype": "text/x-python",
   "name": "python",
   "nbconvert_exporter": "python",
   "pygments_lexer": "ipython3",
   "version": "3.7.11"
  },
  "toc": {
   "base_numbering": 1,
   "nav_menu": {},
   "number_sections": true,
   "sideBar": true,
   "skip_h1_title": true,
   "title_cell": "Table of Contents",
   "title_sidebar": "Contents",
   "toc_cell": false,
   "toc_position": {
    "height": "calc(100% - 180px)",
    "left": "10px",
    "top": "150px",
    "width": "293.2px"
   },
   "toc_section_display": true,
   "toc_window_display": true
  }
 },
 "nbformat": 4,
 "nbformat_minor": 5
}
